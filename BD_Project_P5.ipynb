{
  "nbformat": 4,
  "nbformat_minor": 0,
  "metadata": {
    "colab": {
      "name": "Clean_Big_Data_Project.ipynb",
      "provenance": [],
      "collapsed_sections": [],
      "toc_visible": true
    },
    "kernelspec": {
      "name": "python3",
      "display_name": "Python 3"
    },
    "language_info": {
      "name": "python"
    }
  },
  "cells": [
    {
      "cell_type": "markdown",
      "metadata": {
        "id": "yD7CKbSFbKyI"
      },
      "source": [
        "# **Analysis and prediction of rental house prices in Bucharest, September 2020** \n",
        "\n",
        "\n"
      ]
    },
    {
      "cell_type": "markdown",
      "metadata": {
        "id": "_d5H9Z_A1lDw"
      },
      "source": [
        "## Import libraries"
      ]
    },
    {
      "cell_type": "code",
      "metadata": {
        "id": "dsTnSfW5kBtn"
      },
      "source": [
        "import csv\n",
        "import numpy as np\n",
        "import pandas as pd\n",
        "import matplotlib.pyplot as plt\n",
        "import seaborn as sns\n",
        "\n",
        "from sklearn.model_selection import train_test_split, RandomizedSearchCV\n",
        "from sklearn.linear_model import Ridge\n",
        "from sklearn.linear_model import Lasso\n",
        "from sklearn.linear_model import LinearRegression\n",
        "from sklearn.ensemble import RandomForestRegressor\n",
        "from sklearn.neighbors import KNeighborsRegressor\n",
        "from sklearn import tree, preprocessing\n",
        "from sklearn.tree import DecisionTreeRegressor\n",
        "from sklearn.ensemble import GradientBoostingRegressor\n",
        "from sklearn.metrics import mean_squared_error, mean_absolute_error, r2_score\n",
        "from sklearn.preprocessing import normalize\n",
        "from sklearn.model_selection import cross_val_score\n",
        "from sklearn.svm import LinearSVC\n",
        "from numpy import mean\n",
        "from numpy import std\n",
        "from datetime import datetime\n",
        "\n",
        "from sklearn.decomposition import PCA, KernelPCA\n",
        "from sklearn.manifold import TSNE"
      ],
      "execution_count": null,
      "outputs": []
    },
    {
      "cell_type": "markdown",
      "metadata": {
        "id": "ezb-8MKu0u7R"
      },
      "source": [
        "## Utility Functions"
      ]
    },
    {
      "cell_type": "code",
      "metadata": {
        "id": "dV1ryPYV0wTl"
      },
      "source": [
        "# function to print a timestamp before a message\n",
        "def printt(msg, end='\\n'):\n",
        "    now = datetime.now()\n",
        "    time = now.strftime(\"[%H:%M:%S]\")\n",
        "    print(time, msg, end=end)"
      ],
      "execution_count": null,
      "outputs": []
    },
    {
      "cell_type": "markdown",
      "metadata": {
        "id": "BzlJ4ugdlqOB"
      },
      "source": [
        "##**Cleaning the data** \n",
        "\n",
        "The data will be modified as follows:\n",
        "*   construction_year: missig values will be replaced by the mean per location\n",
        "*   price - remove the outliers \n",
        "*   max_level – we can use the mode if it s bigger than level, else we use level\n",
        "*   location_area - will be changed to numerical data\n",
        "*   seller_type, type -drop this columns\n",
        "*   partitioning, confort, real_estate_type – will be changed to numerical data\n",
        "*   useful/build surface - are complementary (completing the missing values); if they ar both missing, use the average useful/buid surface\n",
        "*   build_surface - will be deleted\n",
        "*   level - all numerical data (no \"parter\" or \"ultimele 2 etaje\")\n",
        "*   kitchens and bathrooms - might be related to useful/build surface\n",
        "*   garages, parking_lots, balconies - 0 where null"
      ]
    },
    {
      "cell_type": "code",
      "metadata": {
        "id": "-4CltF7Dls52",
        "colab": {
          "base_uri": "https://localhost:8080/"
        },
        "outputId": "911ef48b-ec88-478c-eb63-bae4471382cb"
      },
      "source": [
        "#read the data from the csv file\n",
        "def read_csv_file(csvPath, data=[]):\n",
        "  with open(csvPath, 'r') as csvFile:\n",
        "    csvReader=csv.reader(csvFile)\n",
        "    for row in csvReader:\n",
        "      data.append(row)\n",
        "\n",
        "rentalOffers=[]\n",
        "read_csv_file('house_rentals.csv', rentalOffers)\n",
        "#print((np.array(rentalOffers)).shape)\n",
        "#print(rentalOffers[0])\n",
        "rentalOffers=np.array(rentalOffers)\n",
        "print(rentalOffers.shape)\n",
        "\n",
        "#get the position of the column in data or a message, in case there is no such column\n",
        "def get_index_column(data, columnName):\n",
        "  column=np.array(np.where(rentalOffers[0] ==columnName))\n",
        "  if column.shape[1]==1:\n",
        "    return column[0][0]\n",
        "  else:\n",
        "    return 'No column'\n",
        "\n",
        "### price - get rid of the outliers\n",
        "\n",
        "#check wether the price column was removed or not\n",
        "price=np.array(np.where(rentalOffers[0] =='price'))\n",
        "if price.shape[1]==1:\n",
        "  price=price[0][0]\n",
        "print(price)\n",
        "'''\n",
        "#find min and max  price\n",
        "prices=np.array(list(map(int,rentalOffers[1:,price])))\n",
        "bincount=np.bincount(prices)\n",
        "print('Number of offers and price')\n",
        "for i in range(0, len(bincount)):\n",
        "  if bincount[i]>0:\n",
        "    print(bincount[i],i)\n",
        "'''\n",
        "minPrice=70\n",
        "maxPrice=9000\n",
        "\n",
        "i=1\n",
        "while i<rentalOffers.shape[0]:\n",
        "  if rentalOffers[i,price].isnumeric():\n",
        "    if int(rentalOffers[i][price])<=minPrice:\n",
        "      print(int(rentalOffers[i][price]),'<=',minPrice)\n",
        "      rentalOffers=np.delete(rentalOffers, i, axis=0)\n",
        "    elif int(rentalOffers[i][price])>=maxPrice:\n",
        "      print(int(rentalOffers[i][price]),'>=',maxPrice)\n",
        "      rentalOffers=np.delete(rentalOffers, i, axis=0)\n",
        "  i+=1\n",
        "print(rentalOffers.shape)\n",
        "\n",
        "### garages, parking_lots, balconies - 0 where null\n",
        "# the last 3 positions must be completed by 0\n",
        "garages=np.array(np.where(rentalOffers[0] == 'garages_count'))\n",
        "parking_lots=np.array(np.where(rentalOffers[0] == 'parking_lots_count'))\n",
        "balconies_count=np.array(np.where(rentalOffers[0] == 'balconies_count'))\n",
        "gpb=[]\n",
        "if garages.shape[1]==1:\n",
        "  gpb.append(garages[0][0])\n",
        "if parking_lots.shape[1]==1:\n",
        "  gpb.append(parking_lots[0][0])\n",
        "if balconies_count.shape[1]==1:\n",
        "  gpb.append(balconies_count[0][0])\n",
        "print(gpb)\n",
        "\n",
        "for offer in rentalOffers[1:]:\n",
        "  for idx in gpb:\n",
        "    if offer[idx].isnumeric():\n",
        "      offer[idx]=int(offer[idx])\n",
        "    else:\n",
        "      offer[idx]=0\n",
        "\n",
        "\n",
        "### max_level – we can use the mode if it s bigger than level, else we use level\n",
        "### level - all numerical data (no \"parter\" or \"ultimele 2 etaje\")\n",
        "\n",
        "# we will consider \"parter\"=0, \"subsol\"=-1 and \"mansarda\"= the last floor+1 \n",
        "#we need : max_level, level, height_regime\n",
        "maxLevel=get_index_column(rentalOffers, 'max_level')\n",
        "level=get_index_column(rentalOffers, 'level')\n",
        "heightRegime=get_index_column(rentalOffers, 'height_regime')\n",
        "locationArea=get_index_column(rentalOffers,'location_area')\n",
        "\n",
        "if type(maxLevel)==str:\n",
        "  print(\"maxLevel is not a column of your data\")\n",
        "if type(level)==str:\n",
        "  print(\"level is not a column of your data\")\n",
        "if type(heightRegime)==str:\n",
        "  print(\"heightRegime is not a column of your data\")\n",
        "if type(locationArea)==str:\n",
        "  print(\"locationArea is not a column of your data\")\n",
        "\n",
        "### level - all numerical data (no \"parter\" or \"ultimele 2 etaje\")\n",
        "# \"Demisol\"=-1, \"Parter\"=0 ,\"Mansarda\"=last floor+1, \"Ultimele 2 etaje\"=last floor-1\n",
        "for i in range(1, rentalOffers.shape[0]):\n",
        "  if rentalOffers[i][level].isnumeric()==False:\n",
        "    #print(rentalOffers[i][level])\n",
        "    if rentalOffers[i][level]=='Parter':\n",
        "      rentalOffers[i][level]=0\n",
        "    if rentalOffers[i][level]=='Demisol':\n",
        "      rentalOffers[i][level]=-1\n",
        "    if rentalOffers[i][level]=='Mansarda':\n",
        "      if rentalOffers[i][maxLevel].isnumeric():\n",
        "        rentalOffers[i][level]=int(rentalOffers[i][maxLevel])+1\n",
        "      else:\n",
        "        print(rentalOffers[i][heightRegime])\n",
        "    if rentalOffers[i][level]=='Ultimele 2 etaje':\n",
        "      if rentalOffers[i][maxLevel].isnumeric():\n",
        "        #print(rentalOffers[i][level], rentalOffers[i][maxLevel])\n",
        "        rentalOffers[i][level]=int(rentalOffers[i][maxLevel])-1\n",
        "        #print(rentalOffers[i][level])\n",
        "      else:\n",
        "        print(rentalOffers[i][heightRegime])\n",
        "\n",
        "\n",
        "### max_level – we can use the mode if it s bigger than level, else we use level\n",
        "\n",
        "areaMaxLevel=dict()\n",
        "\n",
        "for i in range(1,rentalOffers.shape[0]):\n",
        "  if rentalOffers[i][locationArea] in areaMaxLevel:\n",
        "    if rentalOffers[i][maxLevel].isnumeric():\n",
        "      (maxL, count)=areaMaxLevel[rentalOffers[i][locationArea]]\n",
        "      maxL+=int(rentalOffers[i][maxLevel])\n",
        "      count+=1\n",
        "      areaMaxLevel[rentalOffers[i][locationArea]]=(maxL, count)\n",
        "  else:\n",
        "    if rentalOffers[i][maxLevel].isnumeric():\n",
        "      maxL=int(rentalOffers[i][maxLevel])\n",
        "      count=1\n",
        "    else:\n",
        "      maxL=0\n",
        "      count=0\n",
        "    areaMaxLevel[rentalOffers[i][locationArea]]=(maxL, count)\n",
        "\n",
        "averageLevel=dict()\n",
        "for area in areaMaxLevel:\n",
        "  (maxL, count)=areaMaxLevel[area]\n",
        "  if count!=0:\n",
        "    averageL=int(maxL/count)\n",
        "  else:\n",
        "    averageL=0\n",
        "  averageLevel[area]=averageL\n",
        "\n",
        "\n",
        "for i in range(1,rentalOffers.shape[0]):\n",
        "  if rentalOffers[i][maxLevel].isnumeric()!=True:\n",
        "    averageL=averageLevel[rentalOffers[i][locationArea]]\n",
        "    if averageL==0 and rentalOffers[i][level].isnumeric()==True:\n",
        "      averageL=int(rentalOffers[i][level])\n",
        "    rentalOffers[i][maxLevel]=averageL\n",
        "\n",
        "\n",
        "\n",
        "\n",
        "### location_area - numerical data\n",
        "\n",
        "locationArea=get_index_column(rentalOffers, 'location_area')\n",
        "if type(locationArea)==str:\n",
        "  print(\"locationArea is not a column of your data\")\n",
        "\n",
        "\n",
        "numericalData=dict()\n",
        "count=0\n",
        "\n",
        "for i in range(1,rentalOffers.shape[0]):\n",
        "  if rentalOffers[i][locationArea] in numericalData:\n",
        "    count+=0\n",
        "  else:\n",
        "    numericalData[rentalOffers[i][locationArea]]=count\n",
        "    count+=1\n",
        "\n",
        "for i in range(1,rentalOffers.shape[0]):\n",
        "  if rentalOffers[i][locationArea] in numericalData:\n",
        "    rentalOffers[i][locationArea]=numericalData[rentalOffers[i][locationArea]]\n",
        "\n",
        "\n",
        "\n",
        "\n",
        "### construction_year – mean per zone \n",
        "constructionYear=get_index_column(rentalOffers, 'construction_year')\n",
        "if type(constructionYear)==str:\n",
        "  print(\"constructionYear is not a column of your data\")\n",
        "\n",
        "averageConstructionYear=dict() # key= location_area, value=(sum_years, count_offers)\n",
        "averageYearsOverall=(0,0) # value=(sum_years, count_offers)\n",
        "for i in range(1,rentalOffers.shape[0]):\n",
        "  if rentalOffers[i][locationArea] in averageConstructionYear:\n",
        "    if rentalOffers[i][constructionYear].isnumeric():\n",
        "      (year, count)=averageConstructionYear[rentalOffers[i][locationArea]]\n",
        "      year+=int(rentalOffers[i][constructionYear])\n",
        "      count+=1\n",
        "      averageConstructionYear[rentalOffers[i][locationArea]]=(year, count)\n",
        "  else:\n",
        "    if rentalOffers[i][constructionYear].isnumeric():\n",
        "      year=int(rentalOffers[i][constructionYear])\n",
        "      count=1\n",
        "    else:\n",
        "      year=0\n",
        "      count=0\n",
        "    averageConstructionYear[rentalOffers[i][locationArea]]=(year, count)\n",
        "\n",
        "yearAverage=dict() # key= location_area, value= sum_years/count\n",
        "for area in averageConstructionYear:\n",
        "  (year, count)=averageConstructionYear[area]\n",
        "  if count!=0:\n",
        "    averageY=int(year/count)\n",
        "  else:\n",
        "    averageY=0\n",
        "  yearAverage[area]=averageY\n",
        "\n",
        "#there are areas where there is no value set for the year so we will replace it with the mean year overall\n",
        "meanYear=0\n",
        "areas=0\n",
        "for area in yearAverage:\n",
        "  (year,count)=averageConstructionYear[area]\n",
        "  if year!=0:\n",
        "    meanYear+=year\n",
        "    areas+=count\n",
        "meanYear=int(meanYear/areas)\n",
        "print(\"meanYear:   \",meanYear)\n",
        "\n",
        "for i in range(1,rentalOffers.shape[0]):\n",
        "  if rentalOffers[i][constructionYear].isnumeric()!=True:\n",
        "    averageY=yearAverage[rentalOffers[i][locationArea]]\n",
        "    if averageY==0:\n",
        "      averageY=meanYear\n",
        "    rentalOffers[i][constructionYear]=averageY\n",
        "\n",
        "\n",
        "### useful/build surface - are maybe complementary (completing the missing values)\n",
        "usefulSurface=get_index_column(rentalOffers, 'useful_surface')\n",
        "if type(usefulSurface)==str:\n",
        "  print(\"useful_surface is not a column of your data\")\n",
        "\n",
        "builtSurface=get_index_column(rentalOffers, 'built_surface')\n",
        "if type(builtSurface)==str:\n",
        "  print(\"built_surface is not a column of your data\")\n",
        "print(usefulSurface,builtSurface)\n",
        "\n",
        "\n",
        "count=0\n",
        "final=0\n",
        "\n",
        "for i in range(1,rentalOffers.shape[0]):\n",
        "  if rentalOffers[i][usefulSurface]!='' and rentalOffers[i][builtSurface]=='':\n",
        "    rentalOffers[i][builtSurface]=rentalOffers[i][usefulSurface]\n",
        "  if rentalOffers[i][usefulSurface]=='' and rentalOffers[i][builtSurface]!='':\n",
        "    rentalOffers[i][usefulSurface]=rentalOffers[i][builtSurface]\n",
        "  if rentalOffers[i][usefulSurface]!='' and rentalOffers[i][builtSurface]!='':\n",
        "    count+=1\n",
        "  else:\n",
        "    final+=1\n",
        "\n",
        "\n",
        "\n",
        "\n",
        "### partitioning, confort, real_estate_type – numerical data\n",
        "#partitioning\n",
        "partitioning=get_index_column(rentalOffers, 'partitioning')\n",
        "if type(partitioning)==str:\n",
        "  print(\"partitioning is not a column of your data\")\n",
        "\n",
        "dictionaryPartitioning=dict() # key=type, value=number\n",
        "\n",
        "count=1\n",
        "for i in range(1,rentalOffers.shape[0]):\n",
        "  if rentalOffers[i][partitioning] in dictionaryPartitioning:\n",
        "    rentalOffers[i][partitioning]=dictionaryPartitioning[rentalOffers[i][partitioning]]\n",
        "  elif rentalOffers[i][partitioning]!='':\n",
        "    dictionaryPartitioning[rentalOffers[i][partitioning]]=count\n",
        "    rentalOffers[i][partitioning]=count\n",
        "    count+=1\n",
        "  elif rentalOffers[i][partitioning]=='':\n",
        "    # Set the missing values for partitiong with the 'decomandat' value (which is encoded as 1), since it is the mode in our dataset (68%)\n",
        "    dictionaryPartitioning['']=1\n",
        "    rentalOffers[i][partitioning]=1\n",
        "\n",
        "### comfort, real_estate_type – numerical data\n",
        "comfort=get_index_column(rentalOffers, 'comfort')\n",
        "if type(comfort)==str:\n",
        "  print(\"comfort is not a column of your data\")\n",
        "\n",
        "for i in range(1,rentalOffers.shape[0]):\n",
        "  if rentalOffers[i][comfort]=='lux':\n",
        "    rentalOffers[i][comfort]='4'\n",
        "  elif rentalOffers[i][comfort]=='1':\n",
        "    rentalOffers[i][comfort]='3'\n",
        "  elif rentalOffers[i][comfort]=='2':\n",
        "    rentalOffers[i][comfort]='2'\n",
        "  elif rentalOffers[i][comfort]=='3':\n",
        "    rentalOffers[i][comfort]='1'\n",
        "  elif rentalOffers[i][comfort]=='':\n",
        "    rentalOffers[i][comfort]='3'\n",
        "\n",
        "\n",
        "### real_estate_type – numerical data\n",
        "realEstateType=get_index_column(rentalOffers, 'real_estate_type')\n",
        "if type(realEstateType)==str:\n",
        "  print(\"realEstateType is not a column of your data\")\n",
        "\"\"\"\n",
        "dictionaryRealEstateType={\"bloc de apartamente\":1, \"casa/vila\":0, '':1}\n",
        "for i in range(1,rentalOffers.shape[0]):\n",
        "  if rentalOffers[i][realEstateType] in dictionaryRealEstateType:\n",
        "    rentalOffers[i][realEstateType]=dictionaryRealEstateType[rentalOffers[i][realEstateType]]\n",
        "  else:\n",
        "    rentalOffers[i][realEstateType]=0\n",
        "\n",
        "\"\"\"\n",
        "dictionaryRealEstateType=dict() # key=type, value=number\n",
        "\n",
        "count=0\n",
        "for i in range(1,rentalOffers.shape[0]):\n",
        "  if rentalOffers[i][realEstateType] in dictionaryRealEstateType:\n",
        "    rentalOffers[i][realEstateType]=dictionaryRealEstateType[rentalOffers[i][realEstateType]]\n",
        "  elif rentalOffers[i][realEstateType]!='':\n",
        "    dictionaryRealEstateType[rentalOffers[i][realEstateType]]=count\n",
        "    rentalOffers[i][realEstateType]=count\n",
        "    count+=1\n",
        "  elif rentalOffers[i][realEstateType]=='':\n",
        "    # Set the missing values for real_estate_type with the 'bloc de apartamente' value (which is encoded as 0), \n",
        "    # since it is the mode in our dataset (97%)\n",
        "    dictionaryRealEstateType['']=0\n",
        "    rentalOffers[i][realEstateType]=0\n",
        "\n",
        "\n",
        "### kitchens and bathrooms - might be related to useful/build surface\n",
        "buildSurface=get_index_column(rentalOffers, 'built_surface')\n",
        "usefulSurface=get_index_column(rentalOffers, 'useful_surface')\n",
        "kitchens=get_index_column(rentalOffers, 'kitchens_count')\n",
        "bathrooms=get_index_column(rentalOffers, 'bathrooms_count')\n",
        "for i in range(1, rentalOffers.shape[0]):\n",
        "  if   rentalOffers[i][usefulSurface].isnumeric()==False or int(rentalOffers[i][usefulSurface]) < 50:\n",
        "    if rentalOffers[i][kitchens].isnumeric()==False or int(rentalOffers[i][kitchens]) > 3 :\n",
        "      rentalOffers[i][kitchens]=1\n",
        "    if  rentalOffers[i][bathrooms].isnumeric()==False or int(rentalOffers[i][bathrooms]) > 3 :\n",
        "      rentalOffers[i][bathrooms]=1\n",
        "  else:\n",
        "    if rentalOffers[i][kitchens].isnumeric()==False:\n",
        "      rentalOffers[i][kitchens]=1\n",
        "    if rentalOffers[i][bathrooms].isnumeric()==False:\n",
        "      rentalOffers[i][bathrooms]=1\n",
        "\n",
        "### seller_type, type -drop this columns\n",
        "# seller_type -> position 3\n",
        "\n",
        "sellerType=np.array(np.where(rentalOffers[0] == 'seller_type'))\n",
        "if sellerType.shape[1]==1:\n",
        "  sellerType=sellerType[0][0]\n",
        "  rentalOffers=np.delete(rentalOffers,sellerType,axis=1)"
      ],
      "execution_count": null,
      "outputs": [
        {
          "output_type": "stream",
          "text": [
            "(9807, 21)\n",
            "7\n",
            "11000 >= 9000\n",
            "70 <= 70\n",
            "24 <= 70\n",
            "89000 >= 9000\n",
            "139000 >= 9000\n",
            "39900 >= 9000\n",
            "9500 >= 9000\n",
            "(9800, 21)\n",
            "[18, 19, 20]\n",
            "meanYear:    1995\n",
            "9 10\n"
          ],
          "name": "stdout"
        }
      ]
    },
    {
      "cell_type": "code",
      "metadata": {
        "id": "WRt78oEQm0mW"
      },
      "source": [
        "#### Write Proccessed Data to a new CSV\n",
        "\n",
        "with open('house_rentals_clean.csv', 'w', newline='') as file:\n",
        "    writer = csv.writer(file)\n",
        "    for line in rentalOffers:\n",
        "      writer.writerow(line)\n",
        "\n",
        "rental = pd.read_csv('house_rentals_clean.csv')\n",
        "X = rental.drop(['id','location','type','price','height_regime', 'built_surface','bathrooms_count','rooms_count'],axis=1)\n",
        "\n",
        "X['useful_surface'].isnull().sum()\n",
        "X['useful_surface'].mean()\n",
        "X['useful_surface'] = X['useful_surface'].replace(np.NaN,int(X['useful_surface'].mean()))\n",
        "X['useful_surface'].isnull().sum()\n",
        "\n",
        "X.to_csv('house_rentals_features_1.csv', index=False)"
      ],
      "execution_count": null,
      "outputs": []
    },
    {
      "cell_type": "markdown",
      "metadata": {
        "id": "oLjK86jToegp"
      },
      "source": [
        "## Plot how the features are correlated to each other, and to price"
      ]
    },
    {
      "cell_type": "code",
      "metadata": {
        "id": "j_awe8N7nhpn",
        "colab": {
          "base_uri": "https://localhost:8080/",
          "height": 801
        },
        "outputId": "13979fcc-c7a8-4176-bda6-9003607e16c5"
      },
      "source": [
        "corr = X.corr()\n",
        "\n",
        "X_with_price = pd.concat([rental['price'], X], axis=1)\n",
        "corr = X_with_price.corr()\n",
        "\n",
        "plt.subplots(figsize=(15,12))\n",
        "sns.heatmap(corr, vmax=0.9, cmap=\"Blues\", square=True)"
      ],
      "execution_count": null,
      "outputs": [
        {
          "output_type": "execute_result",
          "data": {
            "text/plain": [
              "<matplotlib.axes._subplots.AxesSubplot at 0x7f0f04877110>"
            ]
          },
          "metadata": {
            "tags": []
          },
          "execution_count": 5
        },
        {
          "output_type": "display_data",
          "data": {
            "image/png": "[encoded data removed]",
            "text/plain": [
              "<Figure size 1080x864 with 2 Axes>"
            ]
          },
          "metadata": {
            "tags": [],
            "needs_background": "light"
          }
        }
      ]
    },
    {
      "cell_type": "markdown",
      "metadata": {
        "id": "3vJaTYc7oYmW"
      },
      "source": [
        "## **One hot encoding for categorical data**"
      ]
    },
    {
      "cell_type": "code",
      "metadata": {
        "colab": {
          "base_uri": "https://localhost:8080/"
        },
        "id": "cdgG6hSfoscA",
        "outputId": "8b3d0cf1-6a28-4cd7-d8ce-141e0a0bb530"
      },
      "source": [
        "def OneHotEncoding(df, columns):\n",
        "    print('Before One Hot Encoding:',df.shape)\n",
        "    lenght = df.shape[0]    \n",
        "    df = pd.get_dummies(data = df, columns= columns)    \n",
        "    print('After One Hot Encoding:',df.shape)\n",
        "    return df\n",
        "\n",
        "categorical_col = []\n",
        "categorical_col.append('location_area')\n",
        "categorical_col.append('partitioning')\n",
        "categorical_col.append('real_estate_type')\n",
        "X = OneHotEncoding(X, columns=categorical_col)\n",
        "\n",
        "X.to_csv('house_rentals_features_2.csv', index=False)"
      ],
      "execution_count": null,
      "outputs": [
        {
          "output_type": "stream",
          "text": [
            "Before One Hot Encoding: (9799, 12)\n",
            "After One Hot Encoding: (9799, 196)\n"
          ],
          "name": "stdout"
        }
      ]
    },
    {
      "cell_type": "code",
      "metadata": {
        "colab": {
          "base_uri": "https://localhost:8080/",
          "height": 249
        },
        "id": "7hFEQOJ3pOlr",
        "outputId": "47666471-6196-482b-933c-58f3936b0be1"
      },
      "source": [
        "#### Normalize the data relative to the max value\n",
        "\n",
        "target_column = ['price'] \n",
        "X=X/X.max()\n",
        "X.head()"
      ],
      "execution_count": null,
      "outputs": [
        {
          "output_type": "execute_result",
          "data": {
            "text/html": [
              "<div>\n",
              "<style scoped>\n",
              "    .dataframe tbody tr th:only-of-type {\n",
              "        vertical-align: middle;\n",
              "    }\n",
              "\n",
              "    .dataframe tbody tr th {\n",
              "        vertical-align: top;\n",
              "    }\n",
              "\n",
              "    .dataframe thead th {\n",
              "        text-align: right;\n",
              "    }\n",
              "</style>\n",
              "<table border=\"1\" class=\"dataframe\">\n",
              "  <thead>\n",
              "    <tr style=\"text-align: right;\">\n",
              "      <th></th>\n",
              "      <th>comfort</th>\n",
              "      <th>useful_surface</th>\n",
              "      <th>construction_year</th>\n",
              "      <th>level</th>\n",
              "      <th>max_level</th>\n",
              "      <th>kitchens_count</th>\n",
              "      <th>garages_count</th>\n",
              "      <th>parking_lots_count</th>\n",
              "      <th>balconies_count</th>\n",
              "      <th>location_area_0</th>\n",
              "      <th>location_area_1</th>\n",
              "      <th>location_area_2</th>\n",
              "      <th>location_area_3</th>\n",
              "      <th>location_area_4</th>\n",
              "      <th>location_area_5</th>\n",
              "      <th>location_area_6</th>\n",
              "      <th>location_area_7</th>\n",
              "      <th>location_area_8</th>\n",
              "      <th>location_area_9</th>\n",
              "      <th>location_area_10</th>\n",
              "      <th>location_area_11</th>\n",
              "      <th>location_area_12</th>\n",
              "      <th>location_area_13</th>\n",
              "      <th>location_area_14</th>\n",
              "      <th>location_area_15</th>\n",
              "      <th>location_area_16</th>\n",
              "      <th>location_area_17</th>\n",
              "      <th>location_area_18</th>\n",
              "      <th>location_area_19</th>\n",
              "      <th>location_area_20</th>\n",
              "      <th>location_area_21</th>\n",
              "      <th>location_area_22</th>\n",
              "      <th>location_area_23</th>\n",
              "      <th>location_area_24</th>\n",
              "      <th>location_area_25</th>\n",
              "      <th>location_area_26</th>\n",
              "      <th>location_area_27</th>\n",
              "      <th>location_area_28</th>\n",
              "      <th>location_area_29</th>\n",
              "      <th>location_area_30</th>\n",
              "      <th>...</th>\n",
              "      <th>location_area_147</th>\n",
              "      <th>location_area_148</th>\n",
              "      <th>location_area_149</th>\n",
              "      <th>location_area_150</th>\n",
              "      <th>location_area_151</th>\n",
              "      <th>location_area_152</th>\n",
              "      <th>location_area_153</th>\n",
              "      <th>location_area_154</th>\n",
              "      <th>location_area_155</th>\n",
              "      <th>location_area_156</th>\n",
              "      <th>location_area_157</th>\n",
              "      <th>location_area_158</th>\n",
              "      <th>location_area_159</th>\n",
              "      <th>location_area_160</th>\n",
              "      <th>location_area_161</th>\n",
              "      <th>location_area_162</th>\n",
              "      <th>location_area_163</th>\n",
              "      <th>location_area_164</th>\n",
              "      <th>location_area_165</th>\n",
              "      <th>location_area_166</th>\n",
              "      <th>location_area_167</th>\n",
              "      <th>location_area_168</th>\n",
              "      <th>location_area_169</th>\n",
              "      <th>location_area_170</th>\n",
              "      <th>location_area_171</th>\n",
              "      <th>location_area_172</th>\n",
              "      <th>location_area_173</th>\n",
              "      <th>location_area_174</th>\n",
              "      <th>location_area_175</th>\n",
              "      <th>location_area_176</th>\n",
              "      <th>location_area_177</th>\n",
              "      <th>location_area_178</th>\n",
              "      <th>location_area_179</th>\n",
              "      <th>partitioning_1</th>\n",
              "      <th>partitioning_2</th>\n",
              "      <th>partitioning_3</th>\n",
              "      <th>partitioning_4</th>\n",
              "      <th>partitioning_5</th>\n",
              "      <th>real_estate_type_0</th>\n",
              "      <th>real_estate_type_1</th>\n",
              "    </tr>\n",
              "  </thead>\n",
              "  <tbody>\n",
              "    <tr>\n",
              "      <th>0</th>\n",
              "      <td>1.00</td>\n",
              "      <td>0.176</td>\n",
              "      <td>0.998020</td>\n",
              "      <td>0.20</td>\n",
              "      <td>0.250000</td>\n",
              "      <td>0.5</td>\n",
              "      <td>0.333333</td>\n",
              "      <td>0.066667</td>\n",
              "      <td>0.045455</td>\n",
              "      <td>1.0</td>\n",
              "      <td>0.0</td>\n",
              "      <td>0.0</td>\n",
              "      <td>0.0</td>\n",
              "      <td>0.0</td>\n",
              "      <td>0.0</td>\n",
              "      <td>0.0</td>\n",
              "      <td>0.0</td>\n",
              "      <td>0.0</td>\n",
              "      <td>0.0</td>\n",
              "      <td>0.0</td>\n",
              "      <td>0.0</td>\n",
              "      <td>0.0</td>\n",
              "      <td>0.0</td>\n",
              "      <td>0.0</td>\n",
              "      <td>0.0</td>\n",
              "      <td>0.0</td>\n",
              "      <td>0.0</td>\n",
              "      <td>0.0</td>\n",
              "      <td>0.0</td>\n",
              "      <td>0.0</td>\n",
              "      <td>0.0</td>\n",
              "      <td>0.0</td>\n",
              "      <td>0.0</td>\n",
              "      <td>0.0</td>\n",
              "      <td>0.0</td>\n",
              "      <td>0.0</td>\n",
              "      <td>0.0</td>\n",
              "      <td>0.0</td>\n",
              "      <td>0.0</td>\n",
              "      <td>0.0</td>\n",
              "      <td>...</td>\n",
              "      <td>0.0</td>\n",
              "      <td>0.0</td>\n",
              "      <td>0.0</td>\n",
              "      <td>0.0</td>\n",
              "      <td>0.0</td>\n",
              "      <td>0.0</td>\n",
              "      <td>0.0</td>\n",
              "      <td>0.0</td>\n",
              "      <td>0.0</td>\n",
              "      <td>0.0</td>\n",
              "      <td>0.0</td>\n",
              "      <td>0.0</td>\n",
              "      <td>0.0</td>\n",
              "      <td>0.0</td>\n",
              "      <td>0.0</td>\n",
              "      <td>0.0</td>\n",
              "      <td>0.0</td>\n",
              "      <td>0.0</td>\n",
              "      <td>0.0</td>\n",
              "      <td>0.0</td>\n",
              "      <td>0.0</td>\n",
              "      <td>0.0</td>\n",
              "      <td>0.0</td>\n",
              "      <td>0.0</td>\n",
              "      <td>0.0</td>\n",
              "      <td>0.0</td>\n",
              "      <td>0.0</td>\n",
              "      <td>0.0</td>\n",
              "      <td>0.0</td>\n",
              "      <td>0.0</td>\n",
              "      <td>0.0</td>\n",
              "      <td>0.0</td>\n",
              "      <td>0.0</td>\n",
              "      <td>1.0</td>\n",
              "      <td>0.0</td>\n",
              "      <td>0.0</td>\n",
              "      <td>0.0</td>\n",
              "      <td>0.0</td>\n",
              "      <td>1.0</td>\n",
              "      <td>0.0</td>\n",
              "    </tr>\n",
              "    <tr>\n",
              "      <th>1</th>\n",
              "      <td>1.00</td>\n",
              "      <td>0.126</td>\n",
              "      <td>0.998020</td>\n",
              "      <td>0.60</td>\n",
              "      <td>0.250000</td>\n",
              "      <td>0.5</td>\n",
              "      <td>0.333333</td>\n",
              "      <td>0.066667</td>\n",
              "      <td>0.045455</td>\n",
              "      <td>1.0</td>\n",
              "      <td>0.0</td>\n",
              "      <td>0.0</td>\n",
              "      <td>0.0</td>\n",
              "      <td>0.0</td>\n",
              "      <td>0.0</td>\n",
              "      <td>0.0</td>\n",
              "      <td>0.0</td>\n",
              "      <td>0.0</td>\n",
              "      <td>0.0</td>\n",
              "      <td>0.0</td>\n",
              "      <td>0.0</td>\n",
              "      <td>0.0</td>\n",
              "      <td>0.0</td>\n",
              "      <td>0.0</td>\n",
              "      <td>0.0</td>\n",
              "      <td>0.0</td>\n",
              "      <td>0.0</td>\n",
              "      <td>0.0</td>\n",
              "      <td>0.0</td>\n",
              "      <td>0.0</td>\n",
              "      <td>0.0</td>\n",
              "      <td>0.0</td>\n",
              "      <td>0.0</td>\n",
              "      <td>0.0</td>\n",
              "      <td>0.0</td>\n",
              "      <td>0.0</td>\n",
              "      <td>0.0</td>\n",
              "      <td>0.0</td>\n",
              "      <td>0.0</td>\n",
              "      <td>0.0</td>\n",
              "      <td>...</td>\n",
              "      <td>0.0</td>\n",
              "      <td>0.0</td>\n",
              "      <td>0.0</td>\n",
              "      <td>0.0</td>\n",
              "      <td>0.0</td>\n",
              "      <td>0.0</td>\n",
              "      <td>0.0</td>\n",
              "      <td>0.0</td>\n",
              "      <td>0.0</td>\n",
              "      <td>0.0</td>\n",
              "      <td>0.0</td>\n",
              "      <td>0.0</td>\n",
              "      <td>0.0</td>\n",
              "      <td>0.0</td>\n",
              "      <td>0.0</td>\n",
              "      <td>0.0</td>\n",
              "      <td>0.0</td>\n",
              "      <td>0.0</td>\n",
              "      <td>0.0</td>\n",
              "      <td>0.0</td>\n",
              "      <td>0.0</td>\n",
              "      <td>0.0</td>\n",
              "      <td>0.0</td>\n",
              "      <td>0.0</td>\n",
              "      <td>0.0</td>\n",
              "      <td>0.0</td>\n",
              "      <td>0.0</td>\n",
              "      <td>0.0</td>\n",
              "      <td>0.0</td>\n",
              "      <td>0.0</td>\n",
              "      <td>0.0</td>\n",
              "      <td>0.0</td>\n",
              "      <td>0.0</td>\n",
              "      <td>1.0</td>\n",
              "      <td>0.0</td>\n",
              "      <td>0.0</td>\n",
              "      <td>0.0</td>\n",
              "      <td>0.0</td>\n",
              "      <td>1.0</td>\n",
              "      <td>0.0</td>\n",
              "    </tr>\n",
              "    <tr>\n",
              "      <th>2</th>\n",
              "      <td>1.00</td>\n",
              "      <td>0.180</td>\n",
              "      <td>0.999505</td>\n",
              "      <td>0.15</td>\n",
              "      <td>0.153846</td>\n",
              "      <td>0.5</td>\n",
              "      <td>0.333333</td>\n",
              "      <td>0.066667</td>\n",
              "      <td>0.045455</td>\n",
              "      <td>0.0</td>\n",
              "      <td>1.0</td>\n",
              "      <td>0.0</td>\n",
              "      <td>0.0</td>\n",
              "      <td>0.0</td>\n",
              "      <td>0.0</td>\n",
              "      <td>0.0</td>\n",
              "      <td>0.0</td>\n",
              "      <td>0.0</td>\n",
              "      <td>0.0</td>\n",
              "      <td>0.0</td>\n",
              "      <td>0.0</td>\n",
              "      <td>0.0</td>\n",
              "      <td>0.0</td>\n",
              "      <td>0.0</td>\n",
              "      <td>0.0</td>\n",
              "      <td>0.0</td>\n",
              "      <td>0.0</td>\n",
              "      <td>0.0</td>\n",
              "      <td>0.0</td>\n",
              "      <td>0.0</td>\n",
              "      <td>0.0</td>\n",
              "      <td>0.0</td>\n",
              "      <td>0.0</td>\n",
              "      <td>0.0</td>\n",
              "      <td>0.0</td>\n",
              "      <td>0.0</td>\n",
              "      <td>0.0</td>\n",
              "      <td>0.0</td>\n",
              "      <td>0.0</td>\n",
              "      <td>0.0</td>\n",
              "      <td>...</td>\n",
              "      <td>0.0</td>\n",
              "      <td>0.0</td>\n",
              "      <td>0.0</td>\n",
              "      <td>0.0</td>\n",
              "      <td>0.0</td>\n",
              "      <td>0.0</td>\n",
              "      <td>0.0</td>\n",
              "      <td>0.0</td>\n",
              "      <td>0.0</td>\n",
              "      <td>0.0</td>\n",
              "      <td>0.0</td>\n",
              "      <td>0.0</td>\n",
              "      <td>0.0</td>\n",
              "      <td>0.0</td>\n",
              "      <td>0.0</td>\n",
              "      <td>0.0</td>\n",
              "      <td>0.0</td>\n",
              "      <td>0.0</td>\n",
              "      <td>0.0</td>\n",
              "      <td>0.0</td>\n",
              "      <td>0.0</td>\n",
              "      <td>0.0</td>\n",
              "      <td>0.0</td>\n",
              "      <td>0.0</td>\n",
              "      <td>0.0</td>\n",
              "      <td>0.0</td>\n",
              "      <td>0.0</td>\n",
              "      <td>0.0</td>\n",
              "      <td>0.0</td>\n",
              "      <td>0.0</td>\n",
              "      <td>0.0</td>\n",
              "      <td>0.0</td>\n",
              "      <td>0.0</td>\n",
              "      <td>1.0</td>\n",
              "      <td>0.0</td>\n",
              "      <td>0.0</td>\n",
              "      <td>0.0</td>\n",
              "      <td>0.0</td>\n",
              "      <td>1.0</td>\n",
              "      <td>0.0</td>\n",
              "    </tr>\n",
              "    <tr>\n",
              "      <th>3</th>\n",
              "      <td>0.75</td>\n",
              "      <td>0.126</td>\n",
              "      <td>1.000000</td>\n",
              "      <td>0.30</td>\n",
              "      <td>0.211538</td>\n",
              "      <td>0.5</td>\n",
              "      <td>0.000000</td>\n",
              "      <td>0.066667</td>\n",
              "      <td>0.045455</td>\n",
              "      <td>0.0</td>\n",
              "      <td>0.0</td>\n",
              "      <td>1.0</td>\n",
              "      <td>0.0</td>\n",
              "      <td>0.0</td>\n",
              "      <td>0.0</td>\n",
              "      <td>0.0</td>\n",
              "      <td>0.0</td>\n",
              "      <td>0.0</td>\n",
              "      <td>0.0</td>\n",
              "      <td>0.0</td>\n",
              "      <td>0.0</td>\n",
              "      <td>0.0</td>\n",
              "      <td>0.0</td>\n",
              "      <td>0.0</td>\n",
              "      <td>0.0</td>\n",
              "      <td>0.0</td>\n",
              "      <td>0.0</td>\n",
              "      <td>0.0</td>\n",
              "      <td>0.0</td>\n",
              "      <td>0.0</td>\n",
              "      <td>0.0</td>\n",
              "      <td>0.0</td>\n",
              "      <td>0.0</td>\n",
              "      <td>0.0</td>\n",
              "      <td>0.0</td>\n",
              "      <td>0.0</td>\n",
              "      <td>0.0</td>\n",
              "      <td>0.0</td>\n",
              "      <td>0.0</td>\n",
              "      <td>0.0</td>\n",
              "      <td>...</td>\n",
              "      <td>0.0</td>\n",
              "      <td>0.0</td>\n",
              "      <td>0.0</td>\n",
              "      <td>0.0</td>\n",
              "      <td>0.0</td>\n",
              "      <td>0.0</td>\n",
              "      <td>0.0</td>\n",
              "      <td>0.0</td>\n",
              "      <td>0.0</td>\n",
              "      <td>0.0</td>\n",
              "      <td>0.0</td>\n",
              "      <td>0.0</td>\n",
              "      <td>0.0</td>\n",
              "      <td>0.0</td>\n",
              "      <td>0.0</td>\n",
              "      <td>0.0</td>\n",
              "      <td>0.0</td>\n",
              "      <td>0.0</td>\n",
              "      <td>0.0</td>\n",
              "      <td>0.0</td>\n",
              "      <td>0.0</td>\n",
              "      <td>0.0</td>\n",
              "      <td>0.0</td>\n",
              "      <td>0.0</td>\n",
              "      <td>0.0</td>\n",
              "      <td>0.0</td>\n",
              "      <td>0.0</td>\n",
              "      <td>0.0</td>\n",
              "      <td>0.0</td>\n",
              "      <td>0.0</td>\n",
              "      <td>0.0</td>\n",
              "      <td>0.0</td>\n",
              "      <td>0.0</td>\n",
              "      <td>1.0</td>\n",
              "      <td>0.0</td>\n",
              "      <td>0.0</td>\n",
              "      <td>0.0</td>\n",
              "      <td>0.0</td>\n",
              "      <td>1.0</td>\n",
              "      <td>0.0</td>\n",
              "    </tr>\n",
              "    <tr>\n",
              "      <th>4</th>\n",
              "      <td>1.00</td>\n",
              "      <td>0.108</td>\n",
              "      <td>0.998515</td>\n",
              "      <td>0.15</td>\n",
              "      <td>0.250000</td>\n",
              "      <td>0.5</td>\n",
              "      <td>0.000000</td>\n",
              "      <td>0.066667</td>\n",
              "      <td>0.045455</td>\n",
              "      <td>1.0</td>\n",
              "      <td>0.0</td>\n",
              "      <td>0.0</td>\n",
              "      <td>0.0</td>\n",
              "      <td>0.0</td>\n",
              "      <td>0.0</td>\n",
              "      <td>0.0</td>\n",
              "      <td>0.0</td>\n",
              "      <td>0.0</td>\n",
              "      <td>0.0</td>\n",
              "      <td>0.0</td>\n",
              "      <td>0.0</td>\n",
              "      <td>0.0</td>\n",
              "      <td>0.0</td>\n",
              "      <td>0.0</td>\n",
              "      <td>0.0</td>\n",
              "      <td>0.0</td>\n",
              "      <td>0.0</td>\n",
              "      <td>0.0</td>\n",
              "      <td>0.0</td>\n",
              "      <td>0.0</td>\n",
              "      <td>0.0</td>\n",
              "      <td>0.0</td>\n",
              "      <td>0.0</td>\n",
              "      <td>0.0</td>\n",
              "      <td>0.0</td>\n",
              "      <td>0.0</td>\n",
              "      <td>0.0</td>\n",
              "      <td>0.0</td>\n",
              "      <td>0.0</td>\n",
              "      <td>0.0</td>\n",
              "      <td>...</td>\n",
              "      <td>0.0</td>\n",
              "      <td>0.0</td>\n",
              "      <td>0.0</td>\n",
              "      <td>0.0</td>\n",
              "      <td>0.0</td>\n",
              "      <td>0.0</td>\n",
              "      <td>0.0</td>\n",
              "      <td>0.0</td>\n",
              "      <td>0.0</td>\n",
              "      <td>0.0</td>\n",
              "      <td>0.0</td>\n",
              "      <td>0.0</td>\n",
              "      <td>0.0</td>\n",
              "      <td>0.0</td>\n",
              "      <td>0.0</td>\n",
              "      <td>0.0</td>\n",
              "      <td>0.0</td>\n",
              "      <td>0.0</td>\n",
              "      <td>0.0</td>\n",
              "      <td>0.0</td>\n",
              "      <td>0.0</td>\n",
              "      <td>0.0</td>\n",
              "      <td>0.0</td>\n",
              "      <td>0.0</td>\n",
              "      <td>0.0</td>\n",
              "      <td>0.0</td>\n",
              "      <td>0.0</td>\n",
              "      <td>0.0</td>\n",
              "      <td>0.0</td>\n",
              "      <td>0.0</td>\n",
              "      <td>0.0</td>\n",
              "      <td>0.0</td>\n",
              "      <td>0.0</td>\n",
              "      <td>1.0</td>\n",
              "      <td>0.0</td>\n",
              "      <td>0.0</td>\n",
              "      <td>0.0</td>\n",
              "      <td>0.0</td>\n",
              "      <td>1.0</td>\n",
              "      <td>0.0</td>\n",
              "    </tr>\n",
              "  </tbody>\n",
              "</table>\n",
              "<p>5 rows × 196 columns</p>\n",
              "</div>"
            ],
            "text/plain": [
              "   comfort  useful_surface  ...  real_estate_type_0  real_estate_type_1\n",
              "0     1.00           0.176  ...                 1.0                 0.0\n",
              "1     1.00           0.126  ...                 1.0                 0.0\n",
              "2     1.00           0.180  ...                 1.0                 0.0\n",
              "3     0.75           0.126  ...                 1.0                 0.0\n",
              "4     1.00           0.108  ...                 1.0                 0.0\n",
              "\n",
              "[5 rows x 196 columns]"
            ]
          },
          "metadata": {
            "tags": []
          },
          "execution_count": 7
        }
      ]
    },
    {
      "cell_type": "markdown",
      "metadata": {
        "id": "wzg7FGSxqRoD"
      },
      "source": [
        "## Reducing the Dimensionality"
      ]
    },
    {
      "cell_type": "code",
      "metadata": {
        "colab": {
          "base_uri": "https://localhost:8080/",
          "height": 296
        },
        "id": "ff4MexseK1V-",
        "outputId": "630f0d4a-b1b8-4ffc-96f1-d130a5733092"
      },
      "source": [
        "pca = PCA().fit(X)\n",
        "plt.plot(np.cumsum(pca.explained_variance_ratio_[0:50]))\n",
        "plt.xlabel('Number of components')\n",
        "plt.ylabel('Cumulative explained variance');\n",
        "plt.axhline(y = 0.75, color = 'r', linestyle = ':')"
      ],
      "execution_count": null,
      "outputs": [
        {
          "output_type": "execute_result",
          "data": {
            "text/plain": [
              "<matplotlib.lines.Line2D at 0x7fa73817cb50>"
            ]
          },
          "metadata": {
            "tags": []
          },
          "execution_count": 9
        },
        {
          "output_type": "display_data",
          "data": {
            "image/png": "[encoded data removed]",
            "text/plain": [
              "<Figure size 432x288 with 1 Axes>"
            ]
          },
          "metadata": {
            "tags": [],
            "needs_background": "light"
          }
        }
      ]
    },
    {
      "cell_type": "code",
      "metadata": {
        "id": "BEOynDmLqWmm"
      },
      "source": [
        "def transform_using_PCA(X):\n",
        "    pca = PCA(n_components = 32)\n",
        "    pca_32 = pca.fit_transform(X)\n",
        "    return pca_32\n",
        "def transform_using_kernel_PCA(X):\n",
        "    kernel_PCA = KernelPCA(n_components=32)\n",
        "    kernel_PCA_32 = kernel_PCA.fit_transform(X)\n",
        "    return kernel_PCA_32\n",
        "\n",
        "def transform_using_tSNE(X):\n",
        "    tsne = TSNE(n_components=3)\n",
        "    tsne_3 = tsne.fit_transform(transform_using_PCA(X))\n",
        "    return tsne_3\n",
        "\n",
        "X_PCA = transform_using_PCA(X)\n",
        "\n",
        "X_kernel_PCA = transform_using_kernel_PCA(X)\n",
        "\n",
        "X_tSNE = transform_using_tSNE(X)"
      ],
      "execution_count": null,
      "outputs": []
    },
    {
      "cell_type": "code",
      "metadata": {
        "id": "29fjcfcNO8Rm"
      },
      "source": [
        "pd.DataFrame(X_PCA).to_csv('house_rentals_features_2_PCA.csv', index=False)\n",
        "pd.DataFrame(X_kernel_PCA).to_csv('house_rentals_features_2_kernel_PCA.csv', index=False)\n",
        "pd.DataFrame(X_tSNE).to_csv('house_rentals_features_2_tSNE.csv', index=False)"
      ],
      "execution_count": null,
      "outputs": []
    },
    {
      "cell_type": "code",
      "metadata": {
        "id": "xYGn9Jk1PqUJ",
        "colab": {
          "base_uri": "https://localhost:8080/",
          "height": 431
        },
        "outputId": "edccd909-ad3c-47b0-cff8-2f8c08a64643"
      },
      "source": [
        "X_PCA = pd.read_csv('house_rentals_features_2_PCA.csv')\n",
        "X_kernel_PCA = pd.read_csv('house_rentals_features_2_kernel_PCA.csv')\n",
        "X_tSNE = pd.read_csv('house_rentals_features_2_tSNE.csv')\n",
        "X_PCA"
      ],
      "execution_count": null,
      "outputs": [
        {
          "output_type": "execute_result",
          "data": {
            "text/html": [
              "<div>\n",
              "<style scoped>\n",
              "    .dataframe tbody tr th:only-of-type {\n",
              "        vertical-align: middle;\n",
              "    }\n",
              "\n",
              "    .dataframe tbody tr th {\n",
              "        vertical-align: top;\n",
              "    }\n",
              "\n",
              "    .dataframe thead th {\n",
              "        text-align: right;\n",
              "    }\n",
              "</style>\n",
              "<table border=\"1\" class=\"dataframe\">\n",
              "  <thead>\n",
              "    <tr style=\"text-align: right;\">\n",
              "      <th></th>\n",
              "      <th>0</th>\n",
              "      <th>1</th>\n",
              "      <th>2</th>\n",
              "      <th>3</th>\n",
              "      <th>4</th>\n",
              "      <th>5</th>\n",
              "      <th>6</th>\n",
              "      <th>7</th>\n",
              "      <th>8</th>\n",
              "      <th>9</th>\n",
              "      <th>10</th>\n",
              "      <th>11</th>\n",
              "      <th>12</th>\n",
              "      <th>13</th>\n",
              "      <th>14</th>\n",
              "      <th>15</th>\n",
              "      <th>16</th>\n",
              "      <th>17</th>\n",
              "      <th>18</th>\n",
              "      <th>19</th>\n",
              "      <th>20</th>\n",
              "      <th>21</th>\n",
              "      <th>22</th>\n",
              "      <th>23</th>\n",
              "      <th>24</th>\n",
              "      <th>25</th>\n",
              "      <th>26</th>\n",
              "      <th>27</th>\n",
              "      <th>28</th>\n",
              "      <th>29</th>\n",
              "      <th>30</th>\n",
              "      <th>31</th>\n",
              "    </tr>\n",
              "  </thead>\n",
              "  <tbody>\n",
              "    <tr>\n",
              "      <th>0</th>\n",
              "      <td>-0.434458</td>\n",
              "      <td>-0.688597</td>\n",
              "      <td>0.551350</td>\n",
              "      <td>0.422435</td>\n",
              "      <td>-0.018511</td>\n",
              "      <td>0.048041</td>\n",
              "      <td>0.026969</td>\n",
              "      <td>0.006142</td>\n",
              "      <td>0.012533</td>\n",
              "      <td>0.022247</td>\n",
              "      <td>-0.005968</td>\n",
              "      <td>-0.010189</td>\n",
              "      <td>0.027396</td>\n",
              "      <td>-0.008837</td>\n",
              "      <td>0.001442</td>\n",
              "      <td>0.023820</td>\n",
              "      <td>0.057366</td>\n",
              "      <td>0.027877</td>\n",
              "      <td>0.076626</td>\n",
              "      <td>0.002567</td>\n",
              "      <td>-0.006854</td>\n",
              "      <td>-0.018102</td>\n",
              "      <td>0.018011</td>\n",
              "      <td>-0.010426</td>\n",
              "      <td>0.025749</td>\n",
              "      <td>-0.016131</td>\n",
              "      <td>0.006848</td>\n",
              "      <td>0.014508</td>\n",
              "      <td>0.030383</td>\n",
              "      <td>0.015862</td>\n",
              "      <td>-0.004876</td>\n",
              "      <td>-0.006266</td>\n",
              "    </tr>\n",
              "    <tr>\n",
              "      <th>1</th>\n",
              "      <td>-0.435221</td>\n",
              "      <td>-0.721344</td>\n",
              "      <td>0.496307</td>\n",
              "      <td>0.407307</td>\n",
              "      <td>-0.015101</td>\n",
              "      <td>0.019095</td>\n",
              "      <td>0.083200</td>\n",
              "      <td>0.041591</td>\n",
              "      <td>0.050616</td>\n",
              "      <td>-0.006662</td>\n",
              "      <td>-0.101050</td>\n",
              "      <td>-0.060258</td>\n",
              "      <td>0.054991</td>\n",
              "      <td>-0.046529</td>\n",
              "      <td>0.029350</td>\n",
              "      <td>0.221148</td>\n",
              "      <td>0.280805</td>\n",
              "      <td>-0.073909</td>\n",
              "      <td>0.192371</td>\n",
              "      <td>-0.053080</td>\n",
              "      <td>-0.024891</td>\n",
              "      <td>-0.024683</td>\n",
              "      <td>0.046276</td>\n",
              "      <td>-0.013748</td>\n",
              "      <td>0.018338</td>\n",
              "      <td>0.042711</td>\n",
              "      <td>0.013162</td>\n",
              "      <td>0.016133</td>\n",
              "      <td>0.036094</td>\n",
              "      <td>0.033193</td>\n",
              "      <td>0.027776</td>\n",
              "      <td>-0.008200</td>\n",
              "    </tr>\n",
              "    <tr>\n",
              "      <th>2</th>\n",
              "      <td>-0.424171</td>\n",
              "      <td>-0.044754</td>\n",
              "      <td>0.010800</td>\n",
              "      <td>-0.083826</td>\n",
              "      <td>0.058065</td>\n",
              "      <td>-0.171849</td>\n",
              "      <td>-0.556962</td>\n",
              "      <td>-0.245567</td>\n",
              "      <td>0.692200</td>\n",
              "      <td>0.345332</td>\n",
              "      <td>0.023678</td>\n",
              "      <td>0.001558</td>\n",
              "      <td>0.098976</td>\n",
              "      <td>-0.005093</td>\n",
              "      <td>-0.013900</td>\n",
              "      <td>-0.044385</td>\n",
              "      <td>0.067739</td>\n",
              "      <td>0.067439</td>\n",
              "      <td>0.066307</td>\n",
              "      <td>0.017116</td>\n",
              "      <td>-0.000938</td>\n",
              "      <td>-0.027468</td>\n",
              "      <td>0.016633</td>\n",
              "      <td>-0.004736</td>\n",
              "      <td>0.032908</td>\n",
              "      <td>-0.019967</td>\n",
              "      <td>0.010645</td>\n",
              "      <td>0.019828</td>\n",
              "      <td>0.037601</td>\n",
              "      <td>0.017455</td>\n",
              "      <td>-0.014252</td>\n",
              "      <td>0.000621</td>\n",
              "    </tr>\n",
              "    <tr>\n",
              "      <th>3</th>\n",
              "      <td>-0.430203</td>\n",
              "      <td>-0.029906</td>\n",
              "      <td>-0.098329</td>\n",
              "      <td>-0.201316</td>\n",
              "      <td>0.704678</td>\n",
              "      <td>0.594803</td>\n",
              "      <td>0.108538</td>\n",
              "      <td>0.024877</td>\n",
              "      <td>0.032058</td>\n",
              "      <td>0.047526</td>\n",
              "      <td>-0.033944</td>\n",
              "      <td>-0.021232</td>\n",
              "      <td>0.033657</td>\n",
              "      <td>-0.018402</td>\n",
              "      <td>0.010313</td>\n",
              "      <td>0.033124</td>\n",
              "      <td>0.126627</td>\n",
              "      <td>-0.080929</td>\n",
              "      <td>-0.049226</td>\n",
              "      <td>-0.017149</td>\n",
              "      <td>-0.005282</td>\n",
              "      <td>-0.005214</td>\n",
              "      <td>-0.005922</td>\n",
              "      <td>-0.010011</td>\n",
              "      <td>-0.009257</td>\n",
              "      <td>0.039242</td>\n",
              "      <td>-0.012258</td>\n",
              "      <td>-0.016167</td>\n",
              "      <td>-0.033740</td>\n",
              "      <td>-0.018536</td>\n",
              "      <td>0.002161</td>\n",
              "      <td>-0.013857</td>\n",
              "    </tr>\n",
              "    <tr>\n",
              "      <th>4</th>\n",
              "      <td>-0.430475</td>\n",
              "      <td>-0.662631</td>\n",
              "      <td>0.531401</td>\n",
              "      <td>0.409312</td>\n",
              "      <td>-0.036569</td>\n",
              "      <td>0.051483</td>\n",
              "      <td>0.057233</td>\n",
              "      <td>0.018267</td>\n",
              "      <td>0.010712</td>\n",
              "      <td>0.016246</td>\n",
              "      <td>-0.020245</td>\n",
              "      <td>-0.014904</td>\n",
              "      <td>0.006506</td>\n",
              "      <td>-0.006015</td>\n",
              "      <td>0.000826</td>\n",
              "      <td>-0.006749</td>\n",
              "      <td>0.044233</td>\n",
              "      <td>-0.020685</td>\n",
              "      <td>-0.053902</td>\n",
              "      <td>0.003677</td>\n",
              "      <td>0.002831</td>\n",
              "      <td>-0.020563</td>\n",
              "      <td>-0.010720</td>\n",
              "      <td>0.007870</td>\n",
              "      <td>-0.006596</td>\n",
              "      <td>-0.019684</td>\n",
              "      <td>0.014013</td>\n",
              "      <td>0.005467</td>\n",
              "      <td>-0.006026</td>\n",
              "      <td>0.004354</td>\n",
              "      <td>0.009013</td>\n",
              "      <td>-0.009580</td>\n",
              "    </tr>\n",
              "    <tr>\n",
              "      <th>...</th>\n",
              "      <td>...</td>\n",
              "      <td>...</td>\n",
              "      <td>...</td>\n",
              "      <td>...</td>\n",
              "      <td>...</td>\n",
              "      <td>...</td>\n",
              "      <td>...</td>\n",
              "      <td>...</td>\n",
              "      <td>...</td>\n",
              "      <td>...</td>\n",
              "      <td>...</td>\n",
              "      <td>...</td>\n",
              "      <td>...</td>\n",
              "      <td>...</td>\n",
              "      <td>...</td>\n",
              "      <td>...</td>\n",
              "      <td>...</td>\n",
              "      <td>...</td>\n",
              "      <td>...</td>\n",
              "      <td>...</td>\n",
              "      <td>...</td>\n",
              "      <td>...</td>\n",
              "      <td>...</td>\n",
              "      <td>...</td>\n",
              "      <td>...</td>\n",
              "      <td>...</td>\n",
              "      <td>...</td>\n",
              "      <td>...</td>\n",
              "      <td>...</td>\n",
              "      <td>...</td>\n",
              "      <td>...</td>\n",
              "      <td>...</td>\n",
              "    </tr>\n",
              "    <tr>\n",
              "      <th>9794</th>\n",
              "      <td>0.980762</td>\n",
              "      <td>0.282211</td>\n",
              "      <td>-0.459675</td>\n",
              "      <td>0.800865</td>\n",
              "      <td>0.001800</td>\n",
              "      <td>0.087487</td>\n",
              "      <td>0.000975</td>\n",
              "      <td>-0.021151</td>\n",
              "      <td>0.003833</td>\n",
              "      <td>0.019791</td>\n",
              "      <td>0.023729</td>\n",
              "      <td>0.012859</td>\n",
              "      <td>0.031087</td>\n",
              "      <td>-0.005309</td>\n",
              "      <td>-0.016198</td>\n",
              "      <td>-0.057272</td>\n",
              "      <td>-0.047618</td>\n",
              "      <td>0.017189</td>\n",
              "      <td>-0.073047</td>\n",
              "      <td>0.013101</td>\n",
              "      <td>-0.007017</td>\n",
              "      <td>-0.017793</td>\n",
              "      <td>-0.028372</td>\n",
              "      <td>0.005655</td>\n",
              "      <td>-0.016156</td>\n",
              "      <td>-0.001265</td>\n",
              "      <td>-0.013383</td>\n",
              "      <td>-0.009314</td>\n",
              "      <td>-0.017199</td>\n",
              "      <td>-0.005866</td>\n",
              "      <td>-0.013536</td>\n",
              "      <td>-0.003141</td>\n",
              "    </tr>\n",
              "    <tr>\n",
              "      <th>9795</th>\n",
              "      <td>-0.435714</td>\n",
              "      <td>-0.703771</td>\n",
              "      <td>0.537974</td>\n",
              "      <td>0.422150</td>\n",
              "      <td>-0.013850</td>\n",
              "      <td>0.034486</td>\n",
              "      <td>0.042755</td>\n",
              "      <td>0.020064</td>\n",
              "      <td>0.027129</td>\n",
              "      <td>0.011350</td>\n",
              "      <td>-0.042776</td>\n",
              "      <td>-0.027588</td>\n",
              "      <td>0.041772</td>\n",
              "      <td>-0.022705</td>\n",
              "      <td>0.013575</td>\n",
              "      <td>0.114772</td>\n",
              "      <td>0.155167</td>\n",
              "      <td>-0.011049</td>\n",
              "      <td>0.150758</td>\n",
              "      <td>-0.024459</td>\n",
              "      <td>-0.014095</td>\n",
              "      <td>-0.019939</td>\n",
              "      <td>0.034075</td>\n",
              "      <td>-0.010324</td>\n",
              "      <td>0.022846</td>\n",
              "      <td>0.020893</td>\n",
              "      <td>0.009777</td>\n",
              "      <td>0.016430</td>\n",
              "      <td>0.036492</td>\n",
              "      <td>0.024040</td>\n",
              "      <td>0.009329</td>\n",
              "      <td>-0.000129</td>\n",
              "    </tr>\n",
              "    <tr>\n",
              "      <th>9796</th>\n",
              "      <td>-0.399969</td>\n",
              "      <td>0.005443</td>\n",
              "      <td>-0.067425</td>\n",
              "      <td>-0.130859</td>\n",
              "      <td>-0.026359</td>\n",
              "      <td>-0.186798</td>\n",
              "      <td>0.201614</td>\n",
              "      <td>0.761676</td>\n",
              "      <td>0.032045</td>\n",
              "      <td>0.463712</td>\n",
              "      <td>0.218548</td>\n",
              "      <td>0.062396</td>\n",
              "      <td>0.091323</td>\n",
              "      <td>0.025201</td>\n",
              "      <td>-0.033991</td>\n",
              "      <td>-0.145456</td>\n",
              "      <td>-0.039743</td>\n",
              "      <td>0.078945</td>\n",
              "      <td>-0.045832</td>\n",
              "      <td>0.036862</td>\n",
              "      <td>0.013866</td>\n",
              "      <td>-0.028365</td>\n",
              "      <td>-0.015397</td>\n",
              "      <td>0.002941</td>\n",
              "      <td>0.012432</td>\n",
              "      <td>-0.027059</td>\n",
              "      <td>0.006542</td>\n",
              "      <td>0.004633</td>\n",
              "      <td>-0.004347</td>\n",
              "      <td>-0.010467</td>\n",
              "      <td>-0.019735</td>\n",
              "      <td>-0.002405</td>\n",
              "    </tr>\n",
              "    <tr>\n",
              "      <th>9797</th>\n",
              "      <td>-0.417080</td>\n",
              "      <td>0.048147</td>\n",
              "      <td>0.027550</td>\n",
              "      <td>-0.086285</td>\n",
              "      <td>-0.001363</td>\n",
              "      <td>-0.101962</td>\n",
              "      <td>-0.066653</td>\n",
              "      <td>0.021188</td>\n",
              "      <td>-0.051500</td>\n",
              "      <td>-0.270001</td>\n",
              "      <td>-0.092442</td>\n",
              "      <td>0.867952</td>\n",
              "      <td>0.302877</td>\n",
              "      <td>-0.010673</td>\n",
              "      <td>-0.027945</td>\n",
              "      <td>-0.074196</td>\n",
              "      <td>0.112359</td>\n",
              "      <td>-0.003557</td>\n",
              "      <td>-0.054309</td>\n",
              "      <td>0.006816</td>\n",
              "      <td>0.007244</td>\n",
              "      <td>-0.007024</td>\n",
              "      <td>-0.006433</td>\n",
              "      <td>-0.002006</td>\n",
              "      <td>0.004288</td>\n",
              "      <td>0.023222</td>\n",
              "      <td>-0.006576</td>\n",
              "      <td>-0.008065</td>\n",
              "      <td>-0.021155</td>\n",
              "      <td>-0.017180</td>\n",
              "      <td>-0.010674</td>\n",
              "      <td>-0.002471</td>\n",
              "    </tr>\n",
              "    <tr>\n",
              "      <th>9798</th>\n",
              "      <td>1.003529</td>\n",
              "      <td>-0.022514</td>\n",
              "      <td>-0.009851</td>\n",
              "      <td>-0.026744</td>\n",
              "      <td>0.022122</td>\n",
              "      <td>-0.013445</td>\n",
              "      <td>-0.049836</td>\n",
              "      <td>-0.029055</td>\n",
              "      <td>-0.005395</td>\n",
              "      <td>-0.037597</td>\n",
              "      <td>0.014935</td>\n",
              "      <td>0.006651</td>\n",
              "      <td>-0.025483</td>\n",
              "      <td>0.002601</td>\n",
              "      <td>-0.012893</td>\n",
              "      <td>0.010715</td>\n",
              "      <td>-0.192600</td>\n",
              "      <td>0.032869</td>\n",
              "      <td>0.032649</td>\n",
              "      <td>-0.032873</td>\n",
              "      <td>-0.041003</td>\n",
              "      <td>0.160991</td>\n",
              "      <td>-0.037627</td>\n",
              "      <td>-0.024675</td>\n",
              "      <td>-0.241223</td>\n",
              "      <td>-0.029241</td>\n",
              "      <td>0.869542</td>\n",
              "      <td>0.168012</td>\n",
              "      <td>0.116595</td>\n",
              "      <td>-0.063526</td>\n",
              "      <td>-0.187878</td>\n",
              "      <td>-0.006537</td>\n",
              "    </tr>\n",
              "  </tbody>\n",
              "</table>\n",
              "<p>9799 rows × 32 columns</p>\n",
              "</div>"
            ],
            "text/plain": [
              "             0         1         2  ...        29        30        31\n",
              "0    -0.434458 -0.688597  0.551350  ...  0.015862 -0.004876 -0.006266\n",
              "1    -0.435221 -0.721344  0.496307  ...  0.033193  0.027776 -0.008200\n",
              "2    -0.424171 -0.044754  0.010800  ...  0.017455 -0.014252  0.000621\n",
              "3    -0.430203 -0.029906 -0.098329  ... -0.018536  0.002161 -0.013857\n",
              "4    -0.430475 -0.662631  0.531401  ...  0.004354  0.009013 -0.009580\n",
              "...        ...       ...       ...  ...       ...       ...       ...\n",
              "9794  0.980762  0.282211 -0.459675  ... -0.005866 -0.013536 -0.003141\n",
              "9795 -0.435714 -0.703771  0.537974  ...  0.024040  0.009329 -0.000129\n",
              "9796 -0.399969  0.005443 -0.067425  ... -0.010467 -0.019735 -0.002405\n",
              "9797 -0.417080  0.048147  0.027550  ... -0.017180 -0.010674 -0.002471\n",
              "9798  1.003529 -0.022514 -0.009851  ... -0.063526 -0.187878 -0.006537\n",
              "\n",
              "[9799 rows x 32 columns]"
            ]
          },
          "metadata": {
            "tags": []
          },
          "execution_count": 10
        }
      ]
    },
    {
      "cell_type": "markdown",
      "metadata": {
        "id": "HG0VRnJ_soi8"
      },
      "source": [
        "## **Separate train/test data**"
      ]
    },
    {
      "cell_type": "code",
      "metadata": {
        "id": "Az1f4dpcspfm"
      },
      "source": [
        "y = rental[target_column].values\n",
        "\n",
        "X_train, X_test, y_train, y_test = train_test_split(X, y, test_size=0.30, random_state=40)\n",
        "X_PCA_train, X_PCA_test, y_PCA_train, y_PCA_test = train_test_split(X_PCA, y, test_size=0.30, random_state=40)\n",
        "X_kernel_PCA_train, X_kernel_PCA_test, y_kernel_PCA_train, y_kernel_PCA_test = train_test_split(X_kernel_PCA, y, test_size=0.30, random_state=40)\n",
        "X_tSNE_train, X_tSNE_test, y_tSNE_train, y_tSNE_test = train_test_split(X_tSNE, y, test_size=0.30, random_state=40)\n",
        "\n",
        "\n",
        "scaler = preprocessing.Normalizer()\n",
        "scaler.fit(X_train)\n",
        "train_data = scaler.transform(X_train)     # Use this in training the model\n",
        "test_data = scaler.transform(X_test)\n",
        "\n",
        "scaler = preprocessing.Normalizer()\n",
        "scaler.fit(X_PCA_train)\n",
        "PCA_train_data = scaler.transform(X_PCA_train)   # Use this in training the model with PCA dimension reduction\n",
        "PCA_test_data = scaler.transform(X_PCA_test)\n",
        "\n",
        "scaler = preprocessing.Normalizer()\n",
        "scaler.fit(X_kernel_PCA_train)\n",
        "kernel_PCA_train_data = scaler.transform(X_kernel_PCA_train)   # Use this in training the model with Kernel PCA dimension reduction\n",
        "kernel_PCA_test_data = scaler.transform(X_kernel_PCA_test)\n",
        "\n",
        "scaler = preprocessing.Normalizer()\n",
        "scaler.fit(X_tSNE_train)\n",
        "tSNE_train_data = scaler.transform(X_tSNE_train)   # Use this in training the model with t-SNE dimension reduction\n",
        "tSNE_test_data = scaler.transform(X_tSNE_test)"
      ],
      "execution_count": null,
      "outputs": []
    },
    {
      "cell_type": "markdown",
      "metadata": {
        "id": "haxD69Cl0EFt"
      },
      "source": [
        "## **Gradient Boosting Regressor** - w/o dim reduction"
      ]
    },
    {
      "cell_type": "code",
      "metadata": {
        "id": "bkuH4bwm0FZh",
        "colab": {
          "base_uri": "https://localhost:8080/"
        },
        "outputId": "97b6d8ea-7ea3-4303-85f7-f46c21d10cbf"
      },
      "source": [
        "# Gradient Boosting Regressor\n",
        "gbr = GradientBoostingRegressor(n_estimators=857,\n",
        "                                learning_rate=0.01,\n",
        "                                max_depth=4,\n",
        "                                min_samples_leaf=8,\n",
        "                                min_samples_split=33,\n",
        "                                loss='huber',)\n",
        "\n",
        "print('GradientBoosting')\n",
        "gbr_model_full_data = gbr.fit(X_train, y_train)\n",
        "\n",
        "pred_train_gbr= gbr.predict(X_train)\n",
        "print('Mean squared error for train: '+ str(mean_squared_error(y_train,pred_train_gbr)))\n",
        "print('Mean absolute error for train: '+ str(mean_absolute_error(y_train,pred_train_gbr)))\n",
        "print('R2 for train: '+ str(r2_score(y_train, pred_train_gbr)))\n",
        "\n",
        "pred_test_gbr= gbr.predict(X_test)\n",
        "print('Mean squared error for test: '+ str(mean_squared_error(y_test,pred_test_gbr)))\n",
        "print('Mean absolute error for test: '+ str(mean_absolute_error(y_test,pred_test_gbr)))\n",
        "print('R2 for test: '+ str(r2_score(y_test, pred_test_gbr)))"
      ],
      "execution_count": null,
      "outputs": [
        {
          "output_type": "stream",
          "text": [
            "GradientBoosting\n"
          ],
          "name": "stdout"
        },
        {
          "output_type": "stream",
          "text": [
            "/usr/local/lib/python3.7/dist-packages/sklearn/ensemble/_gb.py:1454: DataConversionWarning: A column-vector y was passed when a 1d array was expected. Please change the shape of y to (n_samples, ), for example using ravel().\n",
            "  y = column_or_1d(y, warn=True)\n"
          ],
          "name": "stderr"
        },
        {
          "output_type": "stream",
          "text": [
            "Mean squared error for train: 51922.48687863131\n",
            "Mean absolute error for train: 114.35661083033736\n",
            "R2 for train: 0.8524087294607123\n",
            "Mean squared error for test: 60526.416620818774\n",
            "Mean absolute error for test: 122.09515177901521\n",
            "R2 for test: 0.8226125232896128\n"
          ],
          "name": "stdout"
        }
      ]
    },
    {
      "cell_type": "code",
      "metadata": {
        "id": "vo_MQUCl0Our"
      },
      "source": [
        "f = plt.figure(figsize= (14,6))\n",
        "\n",
        "ax = f.add_subplot(121)\n",
        "ax.scatter(y_test, pred_test_gbr)\n",
        "plt.title('Scatter plot of y_true vs y_pred')\n",
        "\n",
        "residual = y_test - pred_test_gbr\n",
        "ax = f.add_subplot(122)\n",
        "sns.distplot(residual, ax = ax)\n",
        "plt.axvline(residual.mean())\n",
        "plt.title('Residual plot');"
      ],
      "execution_count": null,
      "outputs": []
    },
    {
      "cell_type": "markdown",
      "metadata": {
        "id": "IbSsBMFoY7xI"
      },
      "source": [
        "#### PCA\n"
      ]
    },
    {
      "cell_type": "code",
      "metadata": {
        "colab": {
          "base_uri": "https://localhost:8080/"
        },
        "id": "0bBg2XmRYXXG",
        "outputId": "c6f5260e-a145-48e5-8c0c-05a8bd99202d"
      },
      "source": [
        "gbr.fit(X_PCA_train, y_PCA_train)\n",
        "\n",
        "pred_train_PCAgbr= gbr.predict(X_PCA_train)\n",
        "print('Mean squared error for PCA dim reduced train: '+ str(mean_squared_error(y_PCA_train,pred_train_PCAgbr)))\n",
        "print('Mean absolute error for PCA dim reduced train: '+ str(mean_absolute_error(y_PCA_train,pred_train_PCAgbr)))\n",
        "print('R2 for PCA dim reduced train: '+ str(r2_score(y_PCA_train, pred_train_PCAgbr)))\n",
        "\n",
        "pred_test_PCAgbr= gbr.predict(X_PCA_test)\n",
        "print('Mean squared error for PCA dim reduced test: '+ str(mean_squared_error(y_PCA_test,pred_test_PCAgbr)))\n",
        "print('Mean absolute error PCA dim reduced for test: '+ str(mean_absolute_error(y_PCA_test,pred_test_PCAgbr)))\n",
        "print('R2 for PCA dim reduced test: '+ str(r2_score(y_PCA_test, pred_test_PCAgbr)))"
      ],
      "execution_count": null,
      "outputs": [
        {
          "output_type": "stream",
          "text": [
            "/usr/local/lib/python3.7/dist-packages/sklearn/ensemble/_gb.py:1454: DataConversionWarning: A column-vector y was passed when a 1d array was expected. Please change the shape of y to (n_samples, ), for example using ravel().\n",
            "  y = column_or_1d(y, warn=True)\n"
          ],
          "name": "stderr"
        },
        {
          "output_type": "stream",
          "text": [
            "Mean squared error for PCA dim reduced train: 64707.82852146462\n",
            "Mean absolute error for PCA dim reduced train: 120.47447979461343\n",
            "R2 for PCA dim reduced train: 0.8160660014678198\n",
            "Mean squared error for PCA dim reduced test: 90906.92878706657\n",
            "Mean absolute error PCA dim reduced for test: 148.5830481740564\n",
            "R2 for PCA dim reduced test: 0.7335749972767764\n"
          ],
          "name": "stdout"
        }
      ]
    },
    {
      "cell_type": "markdown",
      "metadata": {
        "id": "6k0UTELJZ-aa"
      },
      "source": [
        "#### Kernel PCA"
      ]
    },
    {
      "cell_type": "code",
      "metadata": {
        "id": "Nrlj_pV5aC_B",
        "colab": {
          "base_uri": "https://localhost:8080/"
        },
        "outputId": "0cbf55fa-4c6e-48ba-ed64-20d67b229245"
      },
      "source": [
        "gbr.fit(X_kernel_PCA_train, y_kernel_PCA_train)\n",
        "\n",
        "pred_train_kPCAgbr= gbr.predict(X_kernel_PCA_train)\n",
        "print('Mean squared error for kernel PCA dim reduced train: '+ str(mean_squared_error(y_kernel_PCA_train,pred_train_kPCAgbr)))\n",
        "print('Mean absolute error for kernel PCA dim reduced train: '+ str(mean_absolute_error(y_kernel_PCA_train,pred_train_kPCAgbr)))\n",
        "print('R2 for kernel PCA dim reduced train: '+ str(r2_score(y_kernel_PCA_train, pred_train_kPCAgbr)))\n",
        "\n",
        "pred_test_kPCAgbr= gbr.predict(X_kernel_PCA_test)\n",
        "print('Mean squared error for kernel PCA dim reduced test: '+ str(mean_squared_error(y_kernel_PCA_test,pred_test_kPCAgbr)))\n",
        "print('Mean absolute error kernel PCA dim reduced for test: '+ str(mean_absolute_error(y_kernel_PCA_test,pred_test_kPCAgbr)))\n",
        "print('R2 for kernel PCA dim reduced test: '+ str(r2_score(y_kernel_PCA_test, pred_test_kPCAgbr)))"
      ],
      "execution_count": null,
      "outputs": [
        {
          "output_type": "stream",
          "text": [
            "/usr/local/lib/python3.7/dist-packages/sklearn/ensemble/_gb.py:1454: DataConversionWarning: A column-vector y was passed when a 1d array was expected. Please change the shape of y to (n_samples, ), for example using ravel().\n",
            "  y = column_or_1d(y, warn=True)\n"
          ],
          "name": "stderr"
        },
        {
          "output_type": "stream",
          "text": [
            "Mean squared error for kernel PCA dim reduced train: 90421.04265537555\n",
            "Mean absolute error for kernel PCA dim reduced train: 146.55194423572397\n",
            "R2 for kernel PCA dim reduced train: 0.7429753971494327\n",
            "Mean squared error for kernel PCA dim reduced test: 119178.25391995226\n",
            "Mean absolute error kernel PCA dim reduced for test: 173.2890093056004\n",
            "R2 for kernel PCA dim reduced test: 0.650718960052584\n"
          ],
          "name": "stdout"
        }
      ]
    },
    {
      "cell_type": "markdown",
      "metadata": {
        "id": "vIK9TRU7aR2h"
      },
      "source": [
        "#### t-SNE"
      ]
    },
    {
      "cell_type": "code",
      "metadata": {
        "id": "2rnv0JiaaUUE",
        "colab": {
          "base_uri": "https://localhost:8080/"
        },
        "outputId": "8358b0ea-1074-4058-fe71-152ce72a616d"
      },
      "source": [
        "gbr.fit(X_tSNE_train, y_tSNE_train)\n",
        "\n",
        "pred_train_tsnegbr= gbr.predict(X_tSNE_train)\n",
        "print('Mean squared error for t-SNE dim reduced train: '+ str(mean_squared_error(y_tSNE_train,pred_train_tsnegbr)))\n",
        "print('Mean absolute error for t-SNE dim reduced train: '+ str(mean_absolute_error(y_tSNE_train,pred_train_tsnegbr)))\n",
        "print('R2 for t-SNE dim reduced train: '+ str(r2_score(y_tSNE_train, pred_train_tsnegbr)))\n",
        "\n",
        "pred_test_tsnegbr= gbr.predict(X_tSNE_test)\n",
        "print('Mean squared error for t-SNE dim reduced test: '+ str(mean_squared_error(y_tSNE_test, pred_test_tsnegbr)))\n",
        "print('Mean absolute error t-SNE dim reduced for test: '+ str(mean_absolute_error(y_tSNE_test, pred_test_tsnegbr)))\n",
        "print('R2 for t-SNE dim reduced test: '+ str(r2_score(y_tSNE_test, pred_test_tsnegbr)))"
      ],
      "execution_count": null,
      "outputs": [
        {
          "output_type": "stream",
          "text": [
            "/usr/local/lib/python3.7/dist-packages/sklearn/ensemble/_gb.py:1454: DataConversionWarning: A column-vector y was passed when a 1d array was expected. Please change the shape of y to (n_samples, ), for example using ravel().\n",
            "  y = column_or_1d(y, warn=True)\n"
          ],
          "name": "stderr"
        },
        {
          "output_type": "stream",
          "text": [
            "Mean squared error for t-SNE dim reduced train: 213128.5649689455\n",
            "Mean absolute error for t-SNE dim reduced train: 224.81033545687646\n",
            "R2 for t-SNE dim reduced train: 0.3941754799705587\n",
            "Mean squared error for t-SNE dim reduced test: 221148.82006669836\n",
            "Mean absolute error t-SNE dim reduced for test: 234.79112665753294\n",
            "R2 for t-SNE dim reduced test: 0.3518692604112007\n"
          ],
          "name": "stdout"
        }
      ]
    },
    {
      "cell_type": "markdown",
      "metadata": {
        "id": "zBg47nux0o05"
      },
      "source": [
        "## **Random Forests** - w/o dim reduction"
      ]
    },
    {
      "cell_type": "code",
      "metadata": {
        "id": "jdrS6Akx0nez"
      },
      "source": [
        "houses = pd.read_csv('house_rentals_clean.csv')\n",
        "house_features_1 = pd.read_csv('house_rentals_features_1.csv')\n",
        "house_features_2 = pd.read_csv('house_rentals_features_2.csv')"
      ],
      "execution_count": null,
      "outputs": []
    },
    {
      "cell_type": "code",
      "metadata": {
        "id": "dpUbKGya04hQ",
        "colab": {
          "base_uri": "https://localhost:8080/"
        },
        "outputId": "15fd1ea9-d4ac-4d10-afe0-0a0806911044"
      },
      "source": [
        "y = np.ravel(houses[['price']].values)\n",
        "\n",
        "X_train_1, X_test_1, y_train_1, y_test_1 = train_test_split(house_features_1, y, test_size=0.30, random_state=40)\n",
        "X_train_2, X_test_2, y_train_2, y_test_2 = train_test_split(house_features_2, y, test_size=0.30, random_state=40)\n",
        "y_train = y_train_1 = y_train_2\n",
        "y_test = y_test_1 = y_test_2\n",
        "\n",
        "print(X_train_1.shape); print(X_test_1.shape)\n",
        "print(X_train_2.shape); print(X_test_2.shape)"
      ],
      "execution_count": null,
      "outputs": [
        {
          "output_type": "stream",
          "text": [
            "(6859, 12)\n",
            "(2940, 12)\n",
            "(6859, 196)\n",
            "(2940, 196)\n"
          ],
          "name": "stdout"
        }
      ]
    },
    {
      "cell_type": "code",
      "metadata": {
        "id": "Fep_LyYl09R6",
        "colab": {
          "base_uri": "https://localhost:8080/"
        },
        "outputId": "df374a6e-ec45-48e7-9c1a-5fcbf2f3987c"
      },
      "source": [
        "printt('Started looking for the best Random Forest...')\n",
        "\n",
        "forest_model = RandomForestRegressor(random_state=0, n_jobs=-1)\n",
        "rsCV = RandomizedSearchCV(forest_model, n_iter=10, param_distributions={\n",
        "    'n_estimators': list(range(500, 1000)),\n",
        "    'min_samples_split': np.linspace(0,0.01,100) * 1.0,\n",
        "    'min_samples_leaf': list(range(1, 50)),\n",
        "    'min_impurity_decrease': np.linspace(0,0.1,100) * 1.0,\n",
        "    'n_jobs': [-1]  # use all the CPU's cores\n",
        "})\n",
        "# rsCV.fit(X_train_1, y_train)\n",
        "rsCV.fit(X_train_2, y_train)\n",
        "\n",
        "printt('Found best estimator: ')\n",
        "print(rsCV.best_estimator_)\n",
        "\n",
        "pred_train_forest = rsCV.predict(X_train_2)\n",
        "print(f'On train MSE: {mean_squared_error(y_train,pred_train_forest)}')\n",
        "print(f'On train MAE: {mean_absolute_error(y_train,pred_train_forest)}')\n",
        "print(f'On train R^2: {r2_score(y_train, pred_train_forest)}')\n",
        "print()\n",
        "\n",
        "pred_test_forest = rsCV.predict(X_test_2)\n",
        "print(f'On test MSE: {mean_squared_error(y_test, pred_test_forest)}') \n",
        "print(f'On test MAE: {mean_absolute_error(y_test, pred_test_forest)}')\n",
        "print(f'On test R^2: {r2_score(y_test, pred_test_forest)}')"
      ],
      "execution_count": null,
      "outputs": [
        {
          "output_type": "stream",
          "text": [
            "[14:24:26] Started looking for the best Random Forest...\n"
          ],
          "name": "stdout"
        }
      ]
    },
    {
      "cell_type": "markdown",
      "metadata": {
        "id": "xt87_8eojpyw"
      },
      "source": [
        "### PCA"
      ]
    },
    {
      "cell_type": "code",
      "metadata": {
        "id": "LQR3kooi55RX"
      },
      "source": [
        "rsCV.fit(X_PCA_train,y_train)\n",
        "\n",
        "pred_train_rsCV_PCA= rsCV.predict(X_PCA_train)\n",
        "print('MSE of training dataset after PCA dim reduction: %0.2f '  % mean_squared_error(y_train,pred_train_rsCV_PCA))\n",
        "print('MAE of training dataset  after PCA dim reduction: %0.2f ' % mean_absolute_error(y_train,pred_train_rsCV_PCA))\n",
        "print('R2 Score of training dataset  after PCA dim reduction: %0.2f ' % r2_score(y_train, pred_train_rsCV_PCA))\n",
        "\n",
        "pred_test_rsCV_PCA= rsCV.predict(X_PCA_test)\n",
        "print('MSE of test dataset  after PCA dim reduction: %0.2f' % mean_squared_error(y_test,pred_test_rsCV_PCA))\n",
        "print('MAE of test dataset  after PCA dim reduction: %0.2f'  % mean_absolute_error(y_test,pred_test_rsCV_PCA))\n",
        "print('R2 Score of test dataset  after PCA dim reduction: %0.2f' % r2_score(y_test, pred_test_rsCV_PCA))"
      ],
      "execution_count": null,
      "outputs": []
    },
    {
      "cell_type": "markdown",
      "metadata": {
        "id": "R-GtPFBIj0Qx"
      },
      "source": [
        "### kernel PCA"
      ]
    },
    {
      "cell_type": "code",
      "metadata": {
        "id": "TQ3EYfhJ6a7b"
      },
      "source": [
        "rsCV.fit(X_kernel_PCA_train,y_train)\n",
        "\n",
        "pred_train_rsCV_kPCA= rsCV.predict(X_kernel_PCA_train)\n",
        "print('MSE of training dataset after kernel PCA dim reduction: %0.2f '  % mean_squared_error(y_train,pred_train_rsCV_kPCA))\n",
        "print('MAE of training dataset  after kernel PCA dim reduction: %0.2f ' % mean_absolute_error(y_train,pred_train_rsCV_kPCA))\n",
        "print('R2 Score of training dataset  after kernel PCA dim reduction: %0.2f ' % r2_score(y_train, pred_train_rsCV_kPCA))\n",
        "\n",
        "pred_test_rsCV_kPCA= rsCV.predict(X_kernel_PCA_test)\n",
        "print('MSE of test dataset  after kernel PCA dim reduction: %0.2f' % mean_squared_error(y_test,pred_test_rsCV_kPCA))\n",
        "print('MAE of test dataset  after kernel PCA dim reduction: %0.2f'  % mean_absolute_error(y_test,pred_test_rsCV_kPCA))\n",
        "print('R2 Score of test dataset  after kernel PCA dim reduction: %0.2f' % r2_score(y_test, pred_test_rsCV_kPCA))"
      ],
      "execution_count": null,
      "outputs": []
    },
    {
      "cell_type": "markdown",
      "metadata": {
        "id": "YAqW6ti9j4a_"
      },
      "source": [
        "### t-SNE"
      ]
    },
    {
      "cell_type": "code",
      "metadata": {
        "id": "mUD07UlN6p_T"
      },
      "source": [
        "rsCV.fit(X_tSNE_train,y_train)\n",
        "\n",
        "pred_train_tsne_rsCV= rsCV.predict(X_tSNE_train)\n",
        "print('MSE of training dataset after tsne dim reduction: %0.2f '  % mean_squared_error(y_train,pred_train_tsne_rsCV))\n",
        "print('MAE of training dataset  after tsne  dim reduction: %0.2f ' % mean_absolute_error(y_train,pred_train_tsne_rsCV))\n",
        "print('R2 Score of training dataset  after tsne  dim reduction: %0.2f ' % r2_score(y_train, pred_train_tsne_rsCV))\n",
        "\n",
        "pred_test_tsne_rsCV= rsCV.predict(X_tSNE_test)\n",
        "print('MSE of test dataset  after tsne  dim reduction: %0.2f' % mean_squared_error(y_test,pred_test_tsne_rsCV))\n",
        "print('MAE of test dataset  after tsne  dim reduction: %0.2f'  % mean_absolute_error(y_test,pred_test_tsne_rsCV))\n",
        "print('R2 Score of test dataset  after tsne  dim reduction: %0.2f' % r2_score(y_test, ppred_test_tsne_rsCV))"
      ],
      "execution_count": null,
      "outputs": []
    },
    {
      "cell_type": "markdown",
      "metadata": {
        "id": "unNZWFd91AVB"
      },
      "source": [
        "### Some results (random forest, no dim reduction)\n",
        "\n",
        "MSE, MAE, and R^2 are the scores on the test subset. The RandomizedSearchCV will use the R^2 (the estimators' score method) to find the best random forest\n",
        "\n",
        "#### Using simple features\n",
        "\n",
        "| n_estimators | min_samples_leaf | min_samples_split | min_impurity_decrease | MSE | MAE | R^2 |\n",
        "|---|---|---|---|---|---|---|\n",
        "| 857 | 8 | 0.0048484848484848485 | 0.012121212121212121 | 67379.7263235 | 128.77371408 | 0.8025272219757487\n",
        "| 615 | 1 | 0.020202020202020204 | 0 | 76572.2190175 | 137.364226147 | 0.7755863724311184\n",
        "| 641 | 1 | 0.04040404040404041 | 0 | 81699.3263942 | 143.621979573 | 0.7605601294918611\n",
        "| 769 | 29 | 0.07070707070707072 | 0.08181818181818182 | 110158.172979 | 159.496929471 | 0.6771545147603439\n",
        "| 631 | 1 | 0.10101010101010102 | 0 | 111545.226416 | 162.127248224 | 0.6730894152064197\n",
        "\n",
        "\n",
        "#### Using one-hot-encoded features\n",
        "\n",
        "| n_estimators | min_samples_leaf | min_samples_split | min_impurity_decrease | MSE | MAE | R^2 |\n",
        "|---|---|---|---|---|---|---|\n",
        "| 798 | 2 | 0.008888888888888889 | 0.0808080808080808 | 67002.7283453 | 127.423910451 | 0.8036321068148311\n",
        "| 961 | 7 | 0.014545454545454545 | 0.023232323232323233 | 71859.2689631 | 133.097485251 | 0.7893988259790616\n"
      ]
    },
    {
      "cell_type": "code",
      "metadata": {
        "id": "Q0DboqFI1Djw"
      },
      "source": [
        "f = plt.figure(figsize= (14,6))\n",
        "\n",
        "ax = f.add_subplot(121)\n",
        "ax.scatter(y_test, pred_test_forest)\n",
        "plt.title('Scatter plot of y_true vs y_pred')\n",
        "\n",
        "residual = y_test - pred_test_forest\n",
        "ax = f.add_subplot(122)\n",
        "sns.distplot(residual, ax = ax)\n",
        "plt.axvline(residual.mean())\n",
        "plt.title('Residual plot');"
      ],
      "execution_count": null,
      "outputs": []
    },
    {
      "cell_type": "markdown",
      "metadata": {
        "id": "efd71ZhXwOdD"
      },
      "source": [
        "## Linear SVC\n",
        "\n"
      ]
    },
    {
      "cell_type": "markdown",
      "metadata": {
        "id": "EV9t4ht8Pw0p"
      },
      "source": [
        "### No dim reduction"
      ]
    },
    {
      "cell_type": "code",
      "metadata": {
        "colab": {
          "base_uri": "https://localhost:8080/"
        },
        "id": "ftymnDke1N0x",
        "outputId": "c3934fa6-021e-430f-98cd-56a9ca6c6e12"
      },
      "source": [
        "printt('Started looking for the best Linear SVC...')\n",
        "\n",
        "# C = list([1e+1, 1e+2, 1])\n",
        "C = list([1e+1])\n",
        "\n",
        "# tol = list([1e-2, 1e-3, 1e-4])\n",
        "tol = list([1e-2])\n",
        "\n",
        "svc_model = LinearSVC(random_state=0)\n",
        "rsCV = RandomizedSearchCV(svc_model, n_iter=2, param_distributions={\n",
        "    'C': C,\n",
        "    'tol': tol\n",
        "})\n",
        "\n",
        "rsCV.fit(X_train, y_train)\n",
        "\n",
        "printt('Found best estimator: ')\n",
        "print(rsCV.best_estimator_)\n",
        "\n",
        "pred_train_svc = rsCV.predict(X_train)\n",
        "print(f'On train MSE: {mean_squared_error(y_train,pred_train_svc)}')\n",
        "print(f'On train MAE: {mean_absolute_error(y_train,pred_train_svc)}')\n",
        "print(f'On train R^2: {r2_score(y_train, pred_train_svc)}')\n",
        "print()\n",
        "\n",
        "pred_test_svc = rsCV.predict(X_test)\n",
        "print(f'On test MSE: {mean_squared_error(y_test, pred_test_svc)}') \n",
        "print(f'On test MAE: {mean_absolute_error(y_test, pred_test_svc)}')\n",
        "print(f'On test R^2: {r2_score(y_test, pred_test_svc)}')"
      ],
      "execution_count": null,
      "outputs": [
        {
          "output_type": "stream",
          "text": [
            "[06:42:14] Started looking for the best Linear SVC...\n"
          ],
          "name": "stdout"
        },
        {
          "output_type": "stream",
          "text": [
            "/usr/local/lib/python3.7/dist-packages/sklearn/model_selection/_search.py:281: UserWarning: The total space of parameters 1 is smaller than n_iter=2. Running 1 iterations. For exhaustive searches, use GridSearchCV.\n",
            "  % (grid_size, self.n_iter, grid_size), UserWarning)\n",
            "/usr/local/lib/python3.7/dist-packages/sklearn/model_selection/_split.py:667: UserWarning: The least populated class in y has only 1 members, which is less than n_splits=5.\n",
            "  % (min_groups, self.n_splits)), UserWarning)\n",
            "/usr/local/lib/python3.7/dist-packages/sklearn/utils/validation.py:760: DataConversionWarning: A column-vector y was passed when a 1d array was expected. Please change the shape of y to (n_samples, ), for example using ravel().\n",
            "  y = column_or_1d(y, warn=True)\n",
            "/usr/local/lib/python3.7/dist-packages/sklearn/svm/_base.py:947: ConvergenceWarning: Liblinear failed to converge, increase the number of iterations.\n",
            "  \"the number of iterations.\", ConvergenceWarning)\n",
            "/usr/local/lib/python3.7/dist-packages/sklearn/utils/validation.py:760: DataConversionWarning: A column-vector y was passed when a 1d array was expected. Please change the shape of y to (n_samples, ), for example using ravel().\n",
            "  y = column_or_1d(y, warn=True)\n",
            "/usr/local/lib/python3.7/dist-packages/sklearn/svm/_base.py:947: ConvergenceWarning: Liblinear failed to converge, increase the number of iterations.\n",
            "  \"the number of iterations.\", ConvergenceWarning)\n",
            "/usr/local/lib/python3.7/dist-packages/sklearn/utils/validation.py:760: DataConversionWarning: A column-vector y was passed when a 1d array was expected. Please change the shape of y to (n_samples, ), for example using ravel().\n",
            "  y = column_or_1d(y, warn=True)\n",
            "/usr/local/lib/python3.7/dist-packages/sklearn/svm/_base.py:947: ConvergenceWarning: Liblinear failed to converge, increase the number of iterations.\n",
            "  \"the number of iterations.\", ConvergenceWarning)\n",
            "/usr/local/lib/python3.7/dist-packages/sklearn/utils/validation.py:760: DataConversionWarning: A column-vector y was passed when a 1d array was expected. Please change the shape of y to (n_samples, ), for example using ravel().\n",
            "  y = column_or_1d(y, warn=True)\n",
            "/usr/local/lib/python3.7/dist-packages/sklearn/svm/_base.py:947: ConvergenceWarning: Liblinear failed to converge, increase the number of iterations.\n",
            "  \"the number of iterations.\", ConvergenceWarning)\n",
            "/usr/local/lib/python3.7/dist-packages/sklearn/utils/validation.py:760: DataConversionWarning: A column-vector y was passed when a 1d array was expected. Please change the shape of y to (n_samples, ), for example using ravel().\n",
            "  y = column_or_1d(y, warn=True)\n",
            "/usr/local/lib/python3.7/dist-packages/sklearn/svm/_base.py:947: ConvergenceWarning: Liblinear failed to converge, increase the number of iterations.\n",
            "  \"the number of iterations.\", ConvergenceWarning)\n",
            "/usr/local/lib/python3.7/dist-packages/sklearn/utils/validation.py:760: DataConversionWarning: A column-vector y was passed when a 1d array was expected. Please change the shape of y to (n_samples, ), for example using ravel().\n",
            "  y = column_or_1d(y, warn=True)\n"
          ],
          "name": "stderr"
        },
        {
          "output_type": "stream",
          "text": [
            "[06:44:07] Found best estimator: \n",
            "LinearSVC(C=10.0, class_weight=None, dual=True, fit_intercept=True,\n",
            "          intercept_scaling=1, loss='squared_hinge', max_iter=1000,\n",
            "          multi_class='ovr', penalty='l2', random_state=0, tol=0.001,\n",
            "          verbose=0)\n",
            "On train MSE: 144002.308791369\n",
            "On train MAE: 174.18807406327454\n",
            "On train R^2: 0.5906689954048435\n",
            "\n",
            "On test MSE: 175248.95442176872\n",
            "On test MAE: 203.4816326530612\n",
            "On test R^2: 0.48639004988908463\n"
          ],
          "name": "stdout"
        },
        {
          "output_type": "stream",
          "text": [
            "/usr/local/lib/python3.7/dist-packages/sklearn/svm/_base.py:947: ConvergenceWarning: Liblinear failed to converge, increase the number of iterations.\n",
            "  \"the number of iterations.\", ConvergenceWarning)\n"
          ],
          "name": "stderr"
        }
      ]
    },
    {
      "cell_type": "code",
      "metadata": {
        "id": "i5iaxqy5NcuG"
      },
      "source": [
        "f = plt.figure(figsize= (14,6))\n",
        "\n",
        "ax = f.add_subplot(121)\n",
        "ax.scatter(y_test, pred_test_svc)\n",
        "plt.title('Scatter plot of y_true vs y_pred')\n",
        "\n",
        "residual = y_test - pred_test_svc\n",
        "ax = f.add_subplot(122)\n",
        "sns.distplot(residual, ax = ax)\n",
        "plt.axvline(residual.mean())\n",
        "plt.title('Residual plot');"
      ],
      "execution_count": null,
      "outputs": []
    },
    {
      "cell_type": "markdown",
      "metadata": {
        "id": "z0xEOlTVP2tn"
      },
      "source": [
        "### PCA"
      ]
    },
    {
      "cell_type": "code",
      "metadata": {
        "colab": {
          "base_uri": "https://localhost:8080/"
        },
        "id": "U4_uaFIlP4p-",
        "outputId": "455a8e60-775c-46f5-be13-a3127856b55b"
      },
      "source": [
        "printt('Started looking for the best Linear SVC...')\n",
        "\n",
        "# C = list([1e+1, 1e+2, 1])\n",
        "C = list([1e+1])\n",
        "\n",
        "# tol = list([1e-2, 1e-3, 1e-4])\n",
        "tol = list([1e-2])\n",
        "\n",
        "svc_model = LinearSVC(random_state=0)\n",
        "rsCV = RandomizedSearchCV(svc_model, n_iter=10, param_distributions={\n",
        "    'C': C,\n",
        "    'tol': tol\n",
        "})\n",
        "\n",
        "rsCV.fit(X_PCA_train, y_train)\n",
        "\n",
        "printt('Found best estimator: ')\n",
        "print(rsCV.best_estimator_)\n",
        "\n",
        "pred_train_svc = rsCV.predict(X_PCA_train)\n",
        "print(f'On train MSE: {mean_squared_error(y_train,pred_train_svc)}')\n",
        "print(f'On train MAE: {mean_absolute_error(y_train,pred_train_svc)}')\n",
        "print(f'On train R^2: {r2_score(y_train, pred_train_svc)}')\n",
        "print()\n",
        "\n",
        "pred_test_svc = rsCV.predict(X_PCA_test)\n",
        "print(f'On test MSE: {mean_squared_error(y_test, pred_test_svc)}') \n",
        "print(f'On test MAE: {mean_absolute_error(y_test, pred_test_svc)}')\n",
        "print(f'On test R^2: {r2_score(y_test, pred_test_svc)}')"
      ],
      "execution_count": null,
      "outputs": [
        {
          "output_type": "stream",
          "text": [
            "[21:20:48] Started looking for the best Linear SVC...\n"
          ],
          "name": "stdout"
        },
        {
          "output_type": "stream",
          "text": [
            "/usr/local/lib/python3.7/dist-packages/sklearn/model_selection/_search.py:281: UserWarning: The total space of parameters 9 is smaller than n_iter=10. Running 9 iterations. For exhaustive searches, use GridSearchCV.\n",
            "  % (grid_size, self.n_iter, grid_size), UserWarning)\n",
            "/usr/local/lib/python3.7/dist-packages/sklearn/model_selection/_split.py:667: UserWarning: The least populated class in y has only 1 members, which is less than n_splits=5.\n",
            "  % (min_groups, self.n_splits)), UserWarning)\n",
            "/usr/local/lib/python3.7/dist-packages/sklearn/utils/validation.py:760: DataConversionWarning: A column-vector y was passed when a 1d array was expected. Please change the shape of y to (n_samples, ), for example using ravel().\n",
            "  y = column_or_1d(y, warn=True)\n",
            "/usr/local/lib/python3.7/dist-packages/sklearn/utils/validation.py:760: DataConversionWarning: A column-vector y was passed when a 1d array was expected. Please change the shape of y to (n_samples, ), for example using ravel().\n",
            "  y = column_or_1d(y, warn=True)\n",
            "/usr/local/lib/python3.7/dist-packages/sklearn/utils/validation.py:760: DataConversionWarning: A column-vector y was passed when a 1d array was expected. Please change the shape of y to (n_samples, ), for example using ravel().\n",
            "  y = column_or_1d(y, warn=True)\n",
            "/usr/local/lib/python3.7/dist-packages/sklearn/utils/validation.py:760: DataConversionWarning: A column-vector y was passed when a 1d array was expected. Please change the shape of y to (n_samples, ), for example using ravel().\n",
            "  y = column_or_1d(y, warn=True)\n",
            "/usr/local/lib/python3.7/dist-packages/sklearn/utils/validation.py:760: DataConversionWarning: A column-vector y was passed when a 1d array was expected. Please change the shape of y to (n_samples, ), for example using ravel().\n",
            "  y = column_or_1d(y, warn=True)\n",
            "/usr/local/lib/python3.7/dist-packages/sklearn/utils/validation.py:760: DataConversionWarning: A column-vector y was passed when a 1d array was expected. Please change the shape of y to (n_samples, ), for example using ravel().\n",
            "  y = column_or_1d(y, warn=True)\n",
            "/usr/local/lib/python3.7/dist-packages/sklearn/svm/_base.py:947: ConvergenceWarning: Liblinear failed to converge, increase the number of iterations.\n",
            "  \"the number of iterations.\", ConvergenceWarning)\n",
            "/usr/local/lib/python3.7/dist-packages/sklearn/utils/validation.py:760: DataConversionWarning: A column-vector y was passed when a 1d array was expected. Please change the shape of y to (n_samples, ), for example using ravel().\n",
            "  y = column_or_1d(y, warn=True)\n",
            "/usr/local/lib/python3.7/dist-packages/sklearn/svm/_base.py:947: ConvergenceWarning: Liblinear failed to converge, increase the number of iterations.\n",
            "  \"the number of iterations.\", ConvergenceWarning)\n",
            "/usr/local/lib/python3.7/dist-packages/sklearn/utils/validation.py:760: DataConversionWarning: A column-vector y was passed when a 1d array was expected. Please change the shape of y to (n_samples, ), for example using ravel().\n",
            "  y = column_or_1d(y, warn=True)\n",
            "/usr/local/lib/python3.7/dist-packages/sklearn/svm/_base.py:947: ConvergenceWarning: Liblinear failed to converge, increase the number of iterations.\n",
            "  \"the number of iterations.\", ConvergenceWarning)\n",
            "/usr/local/lib/python3.7/dist-packages/sklearn/utils/validation.py:760: DataConversionWarning: A column-vector y was passed when a 1d array was expected. Please change the shape of y to (n_samples, ), for example using ravel().\n",
            "  y = column_or_1d(y, warn=True)\n",
            "/usr/local/lib/python3.7/dist-packages/sklearn/svm/_base.py:947: ConvergenceWarning: Liblinear failed to converge, increase the number of iterations.\n",
            "  \"the number of iterations.\", ConvergenceWarning)\n",
            "/usr/local/lib/python3.7/dist-packages/sklearn/utils/validation.py:760: DataConversionWarning: A column-vector y was passed when a 1d array was expected. Please change the shape of y to (n_samples, ), for example using ravel().\n",
            "  y = column_or_1d(y, warn=True)\n",
            "/usr/local/lib/python3.7/dist-packages/sklearn/svm/_base.py:947: ConvergenceWarning: Liblinear failed to converge, increase the number of iterations.\n",
            "  \"the number of iterations.\", ConvergenceWarning)\n",
            "/usr/local/lib/python3.7/dist-packages/sklearn/utils/validation.py:760: DataConversionWarning: A column-vector y was passed when a 1d array was expected. Please change the shape of y to (n_samples, ), for example using ravel().\n",
            "  y = column_or_1d(y, warn=True)\n",
            "/usr/local/lib/python3.7/dist-packages/sklearn/svm/_base.py:947: ConvergenceWarning: Liblinear failed to converge, increase the number of iterations.\n",
            "  \"the number of iterations.\", ConvergenceWarning)\n",
            "/usr/local/lib/python3.7/dist-packages/sklearn/utils/validation.py:760: DataConversionWarning: A column-vector y was passed when a 1d array was expected. Please change the shape of y to (n_samples, ), for example using ravel().\n",
            "  y = column_or_1d(y, warn=True)\n",
            "/usr/local/lib/python3.7/dist-packages/sklearn/svm/_base.py:947: ConvergenceWarning: Liblinear failed to converge, increase the number of iterations.\n",
            "  \"the number of iterations.\", ConvergenceWarning)\n",
            "/usr/local/lib/python3.7/dist-packages/sklearn/utils/validation.py:760: DataConversionWarning: A column-vector y was passed when a 1d array was expected. Please change the shape of y to (n_samples, ), for example using ravel().\n",
            "  y = column_or_1d(y, warn=True)\n",
            "/usr/local/lib/python3.7/dist-packages/sklearn/svm/_base.py:947: ConvergenceWarning: Liblinear failed to converge, increase the number of iterations.\n",
            "  \"the number of iterations.\", ConvergenceWarning)\n",
            "/usr/local/lib/python3.7/dist-packages/sklearn/utils/validation.py:760: DataConversionWarning: A column-vector y was passed when a 1d array was expected. Please change the shape of y to (n_samples, ), for example using ravel().\n",
            "  y = column_or_1d(y, warn=True)\n",
            "/usr/local/lib/python3.7/dist-packages/sklearn/svm/_base.py:947: ConvergenceWarning: Liblinear failed to converge, increase the number of iterations.\n",
            "  \"the number of iterations.\", ConvergenceWarning)\n",
            "/usr/local/lib/python3.7/dist-packages/sklearn/utils/validation.py:760: DataConversionWarning: A column-vector y was passed when a 1d array was expected. Please change the shape of y to (n_samples, ), for example using ravel().\n",
            "  y = column_or_1d(y, warn=True)\n",
            "/usr/local/lib/python3.7/dist-packages/sklearn/svm/_base.py:947: ConvergenceWarning: Liblinear failed to converge, increase the number of iterations.\n",
            "  \"the number of iterations.\", ConvergenceWarning)\n",
            "/usr/local/lib/python3.7/dist-packages/sklearn/utils/validation.py:760: DataConversionWarning: A column-vector y was passed when a 1d array was expected. Please change the shape of y to (n_samples, ), for example using ravel().\n",
            "  y = column_or_1d(y, warn=True)\n",
            "/usr/local/lib/python3.7/dist-packages/sklearn/svm/_base.py:947: ConvergenceWarning: Liblinear failed to converge, increase the number of iterations.\n",
            "  \"the number of iterations.\", ConvergenceWarning)\n",
            "/usr/local/lib/python3.7/dist-packages/sklearn/utils/validation.py:760: DataConversionWarning: A column-vector y was passed when a 1d array was expected. Please change the shape of y to (n_samples, ), for example using ravel().\n",
            "  y = column_or_1d(y, warn=True)\n",
            "/usr/local/lib/python3.7/dist-packages/sklearn/svm/_base.py:947: ConvergenceWarning: Liblinear failed to converge, increase the number of iterations.\n",
            "  \"the number of iterations.\", ConvergenceWarning)\n",
            "/usr/local/lib/python3.7/dist-packages/sklearn/utils/validation.py:760: DataConversionWarning: A column-vector y was passed when a 1d array was expected. Please change the shape of y to (n_samples, ), for example using ravel().\n",
            "  y = column_or_1d(y, warn=True)\n",
            "/usr/local/lib/python3.7/dist-packages/sklearn/svm/_base.py:947: ConvergenceWarning: Liblinear failed to converge, increase the number of iterations.\n",
            "  \"the number of iterations.\", ConvergenceWarning)\n",
            "/usr/local/lib/python3.7/dist-packages/sklearn/utils/validation.py:760: DataConversionWarning: A column-vector y was passed when a 1d array was expected. Please change the shape of y to (n_samples, ), for example using ravel().\n",
            "  y = column_or_1d(y, warn=True)\n",
            "/usr/local/lib/python3.7/dist-packages/sklearn/svm/_base.py:947: ConvergenceWarning: Liblinear failed to converge, increase the number of iterations.\n",
            "  \"the number of iterations.\", ConvergenceWarning)\n",
            "/usr/local/lib/python3.7/dist-packages/sklearn/utils/validation.py:760: DataConversionWarning: A column-vector y was passed when a 1d array was expected. Please change the shape of y to (n_samples, ), for example using ravel().\n",
            "  y = column_or_1d(y, warn=True)\n",
            "/usr/local/lib/python3.7/dist-packages/sklearn/svm/_base.py:947: ConvergenceWarning: Liblinear failed to converge, increase the number of iterations.\n",
            "  \"the number of iterations.\", ConvergenceWarning)\n",
            "/usr/local/lib/python3.7/dist-packages/sklearn/utils/validation.py:760: DataConversionWarning: A column-vector y was passed when a 1d array was expected. Please change the shape of y to (n_samples, ), for example using ravel().\n",
            "  y = column_or_1d(y, warn=True)\n",
            "/usr/local/lib/python3.7/dist-packages/sklearn/svm/_base.py:947: ConvergenceWarning: Liblinear failed to converge, increase the number of iterations.\n",
            "  \"the number of iterations.\", ConvergenceWarning)\n",
            "/usr/local/lib/python3.7/dist-packages/sklearn/utils/validation.py:760: DataConversionWarning: A column-vector y was passed when a 1d array was expected. Please change the shape of y to (n_samples, ), for example using ravel().\n",
            "  y = column_or_1d(y, warn=True)\n",
            "/usr/local/lib/python3.7/dist-packages/sklearn/svm/_base.py:947: ConvergenceWarning: Liblinear failed to converge, increase the number of iterations.\n",
            "  \"the number of iterations.\", ConvergenceWarning)\n",
            "/usr/local/lib/python3.7/dist-packages/sklearn/utils/validation.py:760: DataConversionWarning: A column-vector y was passed when a 1d array was expected. Please change the shape of y to (n_samples, ), for example using ravel().\n",
            "  y = column_or_1d(y, warn=True)\n",
            "/usr/local/lib/python3.7/dist-packages/sklearn/svm/_base.py:947: ConvergenceWarning: Liblinear failed to converge, increase the number of iterations.\n",
            "  \"the number of iterations.\", ConvergenceWarning)\n",
            "/usr/local/lib/python3.7/dist-packages/sklearn/utils/validation.py:760: DataConversionWarning: A column-vector y was passed when a 1d array was expected. Please change the shape of y to (n_samples, ), for example using ravel().\n",
            "  y = column_or_1d(y, warn=True)\n",
            "/usr/local/lib/python3.7/dist-packages/sklearn/svm/_base.py:947: ConvergenceWarning: Liblinear failed to converge, increase the number of iterations.\n",
            "  \"the number of iterations.\", ConvergenceWarning)\n",
            "/usr/local/lib/python3.7/dist-packages/sklearn/utils/validation.py:760: DataConversionWarning: A column-vector y was passed when a 1d array was expected. Please change the shape of y to (n_samples, ), for example using ravel().\n",
            "  y = column_or_1d(y, warn=True)\n",
            "/usr/local/lib/python3.7/dist-packages/sklearn/svm/_base.py:947: ConvergenceWarning: Liblinear failed to converge, increase the number of iterations.\n",
            "  \"the number of iterations.\", ConvergenceWarning)\n",
            "/usr/local/lib/python3.7/dist-packages/sklearn/utils/validation.py:760: DataConversionWarning: A column-vector y was passed when a 1d array was expected. Please change the shape of y to (n_samples, ), for example using ravel().\n",
            "  y = column_or_1d(y, warn=True)\n",
            "/usr/local/lib/python3.7/dist-packages/sklearn/svm/_base.py:947: ConvergenceWarning: Liblinear failed to converge, increase the number of iterations.\n",
            "  \"the number of iterations.\", ConvergenceWarning)\n",
            "/usr/local/lib/python3.7/dist-packages/sklearn/utils/validation.py:760: DataConversionWarning: A column-vector y was passed when a 1d array was expected. Please change the shape of y to (n_samples, ), for example using ravel().\n",
            "  y = column_or_1d(y, warn=True)\n",
            "/usr/local/lib/python3.7/dist-packages/sklearn/svm/_base.py:947: ConvergenceWarning: Liblinear failed to converge, increase the number of iterations.\n",
            "  \"the number of iterations.\", ConvergenceWarning)\n",
            "/usr/local/lib/python3.7/dist-packages/sklearn/utils/validation.py:760: DataConversionWarning: A column-vector y was passed when a 1d array was expected. Please change the shape of y to (n_samples, ), for example using ravel().\n",
            "  y = column_or_1d(y, warn=True)\n",
            "/usr/local/lib/python3.7/dist-packages/sklearn/svm/_base.py:947: ConvergenceWarning: Liblinear failed to converge, increase the number of iterations.\n",
            "  \"the number of iterations.\", ConvergenceWarning)\n",
            "/usr/local/lib/python3.7/dist-packages/sklearn/utils/validation.py:760: DataConversionWarning: A column-vector y was passed when a 1d array was expected. Please change the shape of y to (n_samples, ), for example using ravel().\n",
            "  y = column_or_1d(y, warn=True)\n",
            "/usr/local/lib/python3.7/dist-packages/sklearn/svm/_base.py:947: ConvergenceWarning: Liblinear failed to converge, increase the number of iterations.\n",
            "  \"the number of iterations.\", ConvergenceWarning)\n",
            "/usr/local/lib/python3.7/dist-packages/sklearn/utils/validation.py:760: DataConversionWarning: A column-vector y was passed when a 1d array was expected. Please change the shape of y to (n_samples, ), for example using ravel().\n",
            "  y = column_or_1d(y, warn=True)\n",
            "/usr/local/lib/python3.7/dist-packages/sklearn/svm/_base.py:947: ConvergenceWarning: Liblinear failed to converge, increase the number of iterations.\n",
            "  \"the number of iterations.\", ConvergenceWarning)\n",
            "/usr/local/lib/python3.7/dist-packages/sklearn/utils/validation.py:760: DataConversionWarning: A column-vector y was passed when a 1d array was expected. Please change the shape of y to (n_samples, ), for example using ravel().\n",
            "  y = column_or_1d(y, warn=True)\n",
            "/usr/local/lib/python3.7/dist-packages/sklearn/utils/validation.py:760: DataConversionWarning: A column-vector y was passed when a 1d array was expected. Please change the shape of y to (n_samples, ), for example using ravel().\n",
            "  y = column_or_1d(y, warn=True)\n",
            "/usr/local/lib/python3.7/dist-packages/sklearn/utils/validation.py:760: DataConversionWarning: A column-vector y was passed when a 1d array was expected. Please change the shape of y to (n_samples, ), for example using ravel().\n",
            "  y = column_or_1d(y, warn=True)\n",
            "/usr/local/lib/python3.7/dist-packages/sklearn/utils/validation.py:760: DataConversionWarning: A column-vector y was passed when a 1d array was expected. Please change the shape of y to (n_samples, ), for example using ravel().\n",
            "  y = column_or_1d(y, warn=True)\n",
            "/usr/local/lib/python3.7/dist-packages/sklearn/utils/validation.py:760: DataConversionWarning: A column-vector y was passed when a 1d array was expected. Please change the shape of y to (n_samples, ), for example using ravel().\n",
            "  y = column_or_1d(y, warn=True)\n",
            "/usr/local/lib/python3.7/dist-packages/sklearn/utils/validation.py:760: DataConversionWarning: A column-vector y was passed when a 1d array was expected. Please change the shape of y to (n_samples, ), for example using ravel().\n",
            "  y = column_or_1d(y, warn=True)\n",
            "/usr/local/lib/python3.7/dist-packages/sklearn/utils/validation.py:760: DataConversionWarning: A column-vector y was passed when a 1d array was expected. Please change the shape of y to (n_samples, ), for example using ravel().\n",
            "  y = column_or_1d(y, warn=True)\n",
            "/usr/local/lib/python3.7/dist-packages/sklearn/utils/validation.py:760: DataConversionWarning: A column-vector y was passed when a 1d array was expected. Please change the shape of y to (n_samples, ), for example using ravel().\n",
            "  y = column_or_1d(y, warn=True)\n",
            "/usr/local/lib/python3.7/dist-packages/sklearn/utils/validation.py:760: DataConversionWarning: A column-vector y was passed when a 1d array was expected. Please change the shape of y to (n_samples, ), for example using ravel().\n",
            "  y = column_or_1d(y, warn=True)\n",
            "/usr/local/lib/python3.7/dist-packages/sklearn/utils/validation.py:760: DataConversionWarning: A column-vector y was passed when a 1d array was expected. Please change the shape of y to (n_samples, ), for example using ravel().\n",
            "  y = column_or_1d(y, warn=True)\n",
            "/usr/local/lib/python3.7/dist-packages/sklearn/utils/validation.py:760: DataConversionWarning: A column-vector y was passed when a 1d array was expected. Please change the shape of y to (n_samples, ), for example using ravel().\n",
            "  y = column_or_1d(y, warn=True)\n",
            "/usr/local/lib/python3.7/dist-packages/sklearn/utils/validation.py:760: DataConversionWarning: A column-vector y was passed when a 1d array was expected. Please change the shape of y to (n_samples, ), for example using ravel().\n",
            "  y = column_or_1d(y, warn=True)\n",
            "/usr/local/lib/python3.7/dist-packages/sklearn/utils/validation.py:760: DataConversionWarning: A column-vector y was passed when a 1d array was expected. Please change the shape of y to (n_samples, ), for example using ravel().\n",
            "  y = column_or_1d(y, warn=True)\n",
            "/usr/local/lib/python3.7/dist-packages/sklearn/utils/validation.py:760: DataConversionWarning: A column-vector y was passed when a 1d array was expected. Please change the shape of y to (n_samples, ), for example using ravel().\n",
            "  y = column_or_1d(y, warn=True)\n",
            "/usr/local/lib/python3.7/dist-packages/sklearn/utils/validation.py:760: DataConversionWarning: A column-vector y was passed when a 1d array was expected. Please change the shape of y to (n_samples, ), for example using ravel().\n",
            "  y = column_or_1d(y, warn=True)\n",
            "/usr/local/lib/python3.7/dist-packages/sklearn/utils/validation.py:760: DataConversionWarning: A column-vector y was passed when a 1d array was expected. Please change the shape of y to (n_samples, ), for example using ravel().\n",
            "  y = column_or_1d(y, warn=True)\n"
          ],
          "name": "stderr"
        },
        {
          "output_type": "stream",
          "text": [
            "[21:59:03] Found best estimator: \n",
            "LinearSVC(C=10.0, class_weight=None, dual=True, fit_intercept=True,\n",
            "          intercept_scaling=1, loss='squared_hinge', max_iter=1000,\n",
            "          multi_class='ovr', penalty='l2', random_state=0, tol=0.01, verbose=0)\n",
            "On train MSE: 206295.3637556495\n",
            "On train MAE: 220.77124945327307\n",
            "On train R^2: 0.4135990651944015\n",
            "\n",
            "On test MSE: 249626.68979591836\n",
            "On test MAE: 239.31836734693877\n",
            "On test R^2: 0.2684078936992005\n"
          ],
          "name": "stdout"
        }
      ]
    },
    {
      "cell_type": "markdown",
      "metadata": {
        "id": "6lx44gufMTqI"
      },
      "source": [
        "### kernel PCA"
      ]
    },
    {
      "cell_type": "code",
      "metadata": {
        "colab": {
          "base_uri": "https://localhost:8080/"
        },
        "id": "XA0D9PR9MgGi",
        "outputId": "20cc0786-da1d-4db7-aed9-c863b0ccce90"
      },
      "source": [
        "printt('Started looking for the best Linear SVC...')\n",
        "\n",
        "# C = list([1e+1, 1e+2, 1])\n",
        "C = list([1e+1])\n",
        "\n",
        "# tol = list([1e-2, 1e-3, 1e-4])\n",
        "tol = list([1e-2])\n",
        "\n",
        "svc_model = LinearSVC(random_state=0)\n",
        "rsCV = RandomizedSearchCV(svc_model, n_iter=3, param_distributions={\n",
        "    'C': C,\n",
        "    'tol': tol\n",
        "})\n",
        "\n",
        "rsCV.fit(X_kernel_PCA_train, y_train)\n",
        "\n",
        "printt('Found best estimator: ')\n",
        "print(rsCV.best_estimator_)\n",
        "\n",
        "pred_train_svc = rsCV.predict(X_kernel_PCA_train)\n",
        "print(f'On train MSE: {mean_squared_error(y_train,pred_train_svc)}')\n",
        "print(f'On train MAE: {mean_absolute_error(y_train,pred_train_svc)}')\n",
        "print(f'On train R^2: {r2_score(y_train, pred_train_svc)}')\n",
        "print()\n",
        "\n",
        "pred_test_svc = rsCV.predict(X_kernel_PCA_test)\n",
        "print(f'On test MSE: {mean_squared_error(y_test, pred_test_svc)}') \n",
        "print(f'On test MAE: {mean_absolute_error(y_test, pred_test_svc)}')\n",
        "print(f'On test R^2: {r2_score(y_test, pred_test_svc)}')"
      ],
      "execution_count": null,
      "outputs": [
        {
          "output_type": "stream",
          "text": [
            "[06:45:23] Started looking for the best Linear SVC...\n"
          ],
          "name": "stdout"
        },
        {
          "output_type": "stream",
          "text": [
            "/usr/local/lib/python3.7/dist-packages/sklearn/model_selection/_search.py:281: UserWarning: The total space of parameters 1 is smaller than n_iter=3. Running 1 iterations. For exhaustive searches, use GridSearchCV.\n",
            "  % (grid_size, self.n_iter, grid_size), UserWarning)\n",
            "/usr/local/lib/python3.7/dist-packages/sklearn/model_selection/_split.py:667: UserWarning: The least populated class in y has only 1 members, which is less than n_splits=5.\n",
            "  % (min_groups, self.n_splits)), UserWarning)\n",
            "/usr/local/lib/python3.7/dist-packages/sklearn/utils/validation.py:760: DataConversionWarning: A column-vector y was passed when a 1d array was expected. Please change the shape of y to (n_samples, ), for example using ravel().\n",
            "  y = column_or_1d(y, warn=True)\n",
            "/usr/local/lib/python3.7/dist-packages/sklearn/utils/validation.py:760: DataConversionWarning: A column-vector y was passed when a 1d array was expected. Please change the shape of y to (n_samples, ), for example using ravel().\n",
            "  y = column_or_1d(y, warn=True)\n",
            "/usr/local/lib/python3.7/dist-packages/sklearn/utils/validation.py:760: DataConversionWarning: A column-vector y was passed when a 1d array was expected. Please change the shape of y to (n_samples, ), for example using ravel().\n",
            "  y = column_or_1d(y, warn=True)\n",
            "/usr/local/lib/python3.7/dist-packages/sklearn/utils/validation.py:760: DataConversionWarning: A column-vector y was passed when a 1d array was expected. Please change the shape of y to (n_samples, ), for example using ravel().\n",
            "  y = column_or_1d(y, warn=True)\n",
            "/usr/local/lib/python3.7/dist-packages/sklearn/utils/validation.py:760: DataConversionWarning: A column-vector y was passed when a 1d array was expected. Please change the shape of y to (n_samples, ), for example using ravel().\n",
            "  y = column_or_1d(y, warn=True)\n",
            "/usr/local/lib/python3.7/dist-packages/sklearn/utils/validation.py:760: DataConversionWarning: A column-vector y was passed when a 1d array was expected. Please change the shape of y to (n_samples, ), for example using ravel().\n",
            "  y = column_or_1d(y, warn=True)\n"
          ],
          "name": "stderr"
        },
        {
          "output_type": "stream",
          "text": [
            "[06:49:34] Found best estimator: \n",
            "LinearSVC(C=10.0, class_weight=None, dual=True, fit_intercept=True,\n",
            "          intercept_scaling=1, loss='squared_hinge', max_iter=1000,\n",
            "          multi_class='ovr', penalty='l2', random_state=0, tol=0.01, verbose=0)\n",
            "On train MSE: 219836.6359527628\n",
            "On train MAE: 228.81673713369295\n",
            "On train R^2: 0.37510758128374166\n",
            "\n",
            "On test MSE: 254208.6326530612\n",
            "On test MAE: 242.57142857142858\n",
            "On test R^2: 0.2549793888043611\n"
          ],
          "name": "stdout"
        }
      ]
    },
    {
      "cell_type": "markdown",
      "metadata": {
        "id": "H1v-Gk_SSslF"
      },
      "source": [
        "### t-SNE"
      ]
    },
    {
      "cell_type": "code",
      "metadata": {
        "colab": {
          "base_uri": "https://localhost:8080/"
        },
        "id": "8IP_jsdXSvH_",
        "outputId": "a40f6685-359e-42a4-ccc0-ac1906c39b3f"
      },
      "source": [
        "printt('Started looking for the best Linear SVC...')\n",
        "\n",
        "# C = list([1e+1, 1e+2, 1])\n",
        "C = list([1e+1])\n",
        "\n",
        "# tol = list([1e-2, 1e-3, 1e-4])\n",
        "tol = list([1e-2])\n",
        "\n",
        "svc_model = LinearSVC(random_state=0)\n",
        "rsCV = RandomizedSearchCV(svc_model, n_iter=3, param_distributions={\n",
        "    'C': C,\n",
        "    'tol': tol\n",
        "})\n",
        "\n",
        "rsCV.fit(X_tSNE_train, y_train)\n",
        "\n",
        "printt('Found best estimator: ')\n",
        "print(rsCV.best_estimator_)\n",
        "\n",
        "pred_train_svc = rsCV.predict(X_tSNE_train)\n",
        "print(f'On train MSE: {mean_squared_error(y_train,pred_train_svc)}')\n",
        "print(f'On train MAE: {mean_absolute_error(y_train,pred_train_svc)}')\n",
        "print(f'On train R^2: {r2_score(y_train, pred_train_svc)}')\n",
        "print()\n",
        "\n",
        "pred_test_svc = rsCV.predict(X_tSNE_test)\n",
        "print(f'On test MSE: {mean_squared_error(y_test, pred_test_svc)}') \n",
        "print(f'On test MAE: {mean_absolute_error(y_test, pred_test_svc)}')\n",
        "print(f'On test R^2: {r2_score(y_test, pred_test_svc)}')"
      ],
      "execution_count": null,
      "outputs": [
        {
          "output_type": "stream",
          "text": [
            "[06:52:29] Started looking for the best Linear SVC...\n"
          ],
          "name": "stdout"
        },
        {
          "output_type": "stream",
          "text": [
            "/usr/local/lib/python3.7/dist-packages/sklearn/model_selection/_search.py:281: UserWarning: The total space of parameters 1 is smaller than n_iter=3. Running 1 iterations. For exhaustive searches, use GridSearchCV.\n",
            "  % (grid_size, self.n_iter, grid_size), UserWarning)\n",
            "/usr/local/lib/python3.7/dist-packages/sklearn/model_selection/_split.py:667: UserWarning: The least populated class in y has only 1 members, which is less than n_splits=5.\n",
            "  % (min_groups, self.n_splits)), UserWarning)\n",
            "/usr/local/lib/python3.7/dist-packages/sklearn/utils/validation.py:760: DataConversionWarning: A column-vector y was passed when a 1d array was expected. Please change the shape of y to (n_samples, ), for example using ravel().\n",
            "  y = column_or_1d(y, warn=True)\n",
            "/usr/local/lib/python3.7/dist-packages/sklearn/svm/_base.py:947: ConvergenceWarning: Liblinear failed to converge, increase the number of iterations.\n",
            "  \"the number of iterations.\", ConvergenceWarning)\n",
            "/usr/local/lib/python3.7/dist-packages/sklearn/utils/validation.py:760: DataConversionWarning: A column-vector y was passed when a 1d array was expected. Please change the shape of y to (n_samples, ), for example using ravel().\n",
            "  y = column_or_1d(y, warn=True)\n",
            "/usr/local/lib/python3.7/dist-packages/sklearn/svm/_base.py:947: ConvergenceWarning: Liblinear failed to converge, increase the number of iterations.\n",
            "  \"the number of iterations.\", ConvergenceWarning)\n",
            "/usr/local/lib/python3.7/dist-packages/sklearn/utils/validation.py:760: DataConversionWarning: A column-vector y was passed when a 1d array was expected. Please change the shape of y to (n_samples, ), for example using ravel().\n",
            "  y = column_or_1d(y, warn=True)\n",
            "/usr/local/lib/python3.7/dist-packages/sklearn/svm/_base.py:947: ConvergenceWarning: Liblinear failed to converge, increase the number of iterations.\n",
            "  \"the number of iterations.\", ConvergenceWarning)\n",
            "/usr/local/lib/python3.7/dist-packages/sklearn/utils/validation.py:760: DataConversionWarning: A column-vector y was passed when a 1d array was expected. Please change the shape of y to (n_samples, ), for example using ravel().\n",
            "  y = column_or_1d(y, warn=True)\n",
            "/usr/local/lib/python3.7/dist-packages/sklearn/svm/_base.py:947: ConvergenceWarning: Liblinear failed to converge, increase the number of iterations.\n",
            "  \"the number of iterations.\", ConvergenceWarning)\n",
            "/usr/local/lib/python3.7/dist-packages/sklearn/utils/validation.py:760: DataConversionWarning: A column-vector y was passed when a 1d array was expected. Please change the shape of y to (n_samples, ), for example using ravel().\n",
            "  y = column_or_1d(y, warn=True)\n",
            "/usr/local/lib/python3.7/dist-packages/sklearn/svm/_base.py:947: ConvergenceWarning: Liblinear failed to converge, increase the number of iterations.\n",
            "  \"the number of iterations.\", ConvergenceWarning)\n",
            "/usr/local/lib/python3.7/dist-packages/sklearn/utils/validation.py:760: DataConversionWarning: A column-vector y was passed when a 1d array was expected. Please change the shape of y to (n_samples, ), for example using ravel().\n",
            "  y = column_or_1d(y, warn=True)\n"
          ],
          "name": "stderr"
        },
        {
          "output_type": "stream",
          "text": [
            "[07:01:08] Found best estimator: \n",
            "LinearSVC(C=10.0, class_weight=None, dual=True, fit_intercept=True,\n",
            "          intercept_scaling=1, loss='squared_hinge', max_iter=1000,\n",
            "          multi_class='ovr', penalty='l2', random_state=0, tol=0.01, verbose=0)\n",
            "On train MSE: 439202.51771395246\n",
            "On train MAE: 364.76468873013556\n",
            "On train R^2: -0.24844670412221537\n",
            "\n",
            "On test MSE: 423085.2391156463\n",
            "On test MAE: 358.6642857142857\n",
            "On test R^2: -0.23995483608922208\n"
          ],
          "name": "stdout"
        },
        {
          "output_type": "stream",
          "text": [
            "/usr/local/lib/python3.7/dist-packages/sklearn/svm/_base.py:947: ConvergenceWarning: Liblinear failed to converge, increase the number of iterations.\n",
            "  \"the number of iterations.\", ConvergenceWarning)\n"
          ],
          "name": "stderr"
        }
      ]
    },
    {
      "cell_type": "markdown",
      "metadata": {
        "id": "j6qJw4N11oYf"
      },
      "source": [
        "## K-NN"
      ]
    },
    {
      "cell_type": "markdown",
      "metadata": {
        "id": "XZjFlXSwDOSm"
      },
      "source": [
        "#### No dim reduction"
      ]
    },
    {
      "cell_type": "code",
      "metadata": {
        "colab": {
          "base_uri": "https://localhost:8080/",
          "height": 421
        },
        "id": "c3a4ApGsOXoz",
        "outputId": "d4c86f37-0d5e-4cd9-9ac3-d9a9349774aa"
      },
      "source": [
        "error_rate = []\n",
        "for i in range(1, 20):\n",
        "  knn = KNeighborsRegressor(n_neighbors=i)\n",
        "  knn.fit(X_train, y_train)\n",
        "  prediction = knn.predict(X_test)\n",
        "  error_rate.append(np.mean(prediction != y_test))\n",
        "\n",
        "plt.figure(figsize=(10,6))\n",
        "plt.plot(range(1,20),error_rate,color='blue', linestyle='dashed', marker='o', markerfacecolor='red', markersize=10)\n",
        "plt.title('Error Rate vs. K Value')\n",
        "plt.xlabel('K')\n",
        "plt.ylabel('Error Rate')"
      ],
      "execution_count": null,
      "outputs": [
        {
          "output_type": "execute_result",
          "data": {
            "text/plain": [
              "Text(0, 0.5, 'Error Rate')"
            ]
          },
          "metadata": {
            "tags": []
          },
          "execution_count": 12
        },
        {
          "output_type": "display_data",
          "data": {
            "image/png": "[encoded data removed]",
            "text/plain": [
              "<Figure size 720x432 with 1 Axes>"
            ]
          },
          "metadata": {
            "tags": [],
            "needs_background": "light"
          }
        }
      ]
    },
    {
      "cell_type": "code",
      "metadata": {
        "colab": {
          "base_uri": "https://localhost:8080/"
        },
        "id": "2E0HLxLIAGEN",
        "outputId": "8ae2c642-17c0-4fa1-f0fa-204ab625fe73"
      },
      "source": [
        "knn = KNeighborsRegressor(n_neighbors=1)\n",
        "knn.fit(X_train,y_train)\n",
        "\n",
        "pred_train_knn= knn.predict(X_train)\n",
        "print('MSE of training dataset: %0.2f '  % mean_squared_error(y_train,pred_train_knn))\n",
        "print('MAE of training dataset: %0.2f ' % mean_absolute_error(y_train,pred_train_knn))\n",
        "print('R2 Score of training dataset: %0.2f ' % r2_score(y_train, pred_train_knn))\n",
        "\n",
        "pred_test_knn= knn.predict(X_test)\n",
        "print('MSE of test dataset: %0.2f' % mean_squared_error(y_test,pred_test_knn))\n",
        "print('MAE of test dataset: %0.2f'  % mean_absolute_error(y_test,pred_test_knn))\n",
        "print('R2 Score of test dataset: %0.2f' % r2_score(y_test, pred_test_knn))\n",
        "\n",
        "\n"
      ],
      "execution_count": null,
      "outputs": [
        {
          "output_type": "stream",
          "text": [
            "MSE of training dataset: 71.91 \n",
            "MAE of training dataset: 0.36 \n",
            "R2 Score of training dataset: 1.00 \n",
            "MSE of test dataset: 142289.88\n",
            "MAE of test dataset: 187.33\n",
            "R2 Score of test dataset: 0.58\n"
          ],
          "name": "stdout"
        }
      ]
    },
    {
      "cell_type": "markdown",
      "metadata": {
        "id": "gDgw-2FoDUvk"
      },
      "source": [
        "#### PCA"
      ]
    },
    {
      "cell_type": "code",
      "metadata": {
        "colab": {
          "base_uri": "https://localhost:8080/"
        },
        "id": "Lfe1nCLLB6lz",
        "outputId": "0f35b563-6790-4b81-bf39-0160a52bd6d3"
      },
      "source": [
        "knn.fit(X_PCA_train,y_train)\n",
        "\n",
        "pred_train_knn_PCA= knn.predict(X_PCA_train)\n",
        "print('MSE of training dataset after PCA dim reduction: %0.2f '  % mean_squared_error(y_train,pred_train_knn_PCA))\n",
        "print('MAE of training dataset  after PCA dim reduction: %0.2f ' % mean_absolute_error(y_train,pred_train_knn_PCA))\n",
        "print('R2 Score of training dataset  after PCA dim reduction: %0.2f ' % r2_score(y_train, pred_train_knn_PCA))\n",
        "\n",
        "pred_test_knn_PCA= knn.predict(X_PCA_test)\n",
        "print('MSE of test dataset  after PCA dim reduction: %0.2f' % mean_squared_error(y_test,pred_test_knn_PCA))\n",
        "print('MAE of test dataset  after PCA dim reduction: %0.2f'  % mean_absolute_error(y_test,pred_test_knn_PCA))\n",
        "print('R2 Score of test dataset  after PCA dim reduction: %0.2f' % r2_score(y_test, pred_test_knn_PCA))"
      ],
      "execution_count": null,
      "outputs": [
        {
          "output_type": "stream",
          "text": [
            "MSE of training dataset after PCA dim reduction: 72.27 \n",
            "MAE of training dataset  after PCA dim reduction: 0.37 \n",
            "R2 Score of training dataset  after PCA dim reduction: 1.00 \n",
            "MSE of test dataset  after PCA dim reduction: 171794.27\n",
            "MAE of test dataset  after PCA dim reduction: 201.11\n",
            "R2 Score of test dataset  after PCA dim reduction: 0.50\n"
          ],
          "name": "stdout"
        }
      ]
    },
    {
      "cell_type": "markdown",
      "metadata": {
        "id": "8qemhNbKDYZU"
      },
      "source": [
        "#### kernel PCA"
      ]
    },
    {
      "cell_type": "code",
      "metadata": {
        "colab": {
          "base_uri": "https://localhost:8080/"
        },
        "id": "WdfO7YaYCp8I",
        "outputId": "50fde277-7171-4c82-aee6-4fe0d6f0f120"
      },
      "source": [
        "knn.fit(X_kernel_PCA_train,y_train)\n",
        "\n",
        "pred_train_knn_kPCA= knn.predict(X_kernel_PCA_train)\n",
        "print('MSE of training dataset after kernel PCA dim reduction: %0.2f '  % mean_squared_error(y_train,pred_train_knn_kPCA))\n",
        "print('MAE of training dataset  after kernel PCA dim reduction: %0.2f ' % mean_absolute_error(y_train,pred_train_knn_kPCA))\n",
        "print('R2 Score of training dataset  after kernel PCA dim reduction: %0.2f ' % r2_score(y_train, pred_train_knn_kPCA))\n",
        "\n",
        "pred_test_knn_kPCA= knn.predict(X_kernel_PCA_test)\n",
        "print('MSE of test dataset  after kernel PCA dim reduction: %0.2f' % mean_squared_error(y_test,pred_test_knn_kPCA))\n",
        "print('MAE of test dataset  after kernel PCA dim reduction: %0.2f'  % mean_absolute_error(y_test,pred_test_knn_kPCA))\n",
        "print('R2 Score of test dataset  after kernel PCA dim reduction: %0.2f' % r2_score(y_test, pred_test_knn_kPCA))"
      ],
      "execution_count": null,
      "outputs": [
        {
          "output_type": "stream",
          "text": [
            "MSE of training dataset after kernel PCA dim reduction: 0.00 \n",
            "MAE of training dataset  after kernel PCA dim reduction: 0.00 \n",
            "R2 Score of training dataset  after kernel PCA dim reduction: 1.00 \n",
            "MSE of test dataset  after kernel PCA dim reduction: 157626.10\n",
            "MAE of test dataset  after kernel PCA dim reduction: 195.58\n",
            "R2 Score of test dataset  after kernel PCA dim reduction: 0.54\n"
          ],
          "name": "stdout"
        }
      ]
    },
    {
      "cell_type": "markdown",
      "metadata": {
        "id": "OYA9cfDvDafo"
      },
      "source": [
        "#### t-SNE"
      ]
    },
    {
      "cell_type": "code",
      "metadata": {
        "colab": {
          "base_uri": "https://localhost:8080/"
        },
        "id": "YemYnXCpDe6a",
        "outputId": "5ca08c7d-1779-4518-ecd9-9ceeb1c8fc4a"
      },
      "source": [
        "knn.fit(X_tSNE_train,y_train)\n",
        "\n",
        "pred_train_tsne= knn.predict(X_tSNE_train)\n",
        "print('MSE of training dataset after tsne dim reduction: %0.2f '  % mean_squared_error(y_train,pred_train_tsne))\n",
        "print('MAE of training dataset  after tsne  dim reduction: %0.2f ' % mean_absolute_error(y_train,pred_train_tsne))\n",
        "print('R2 Score of training dataset  after tsne  dim reduction: %0.2f ' % r2_score(y_train, pred_train_tsne))\n",
        "\n",
        "pred_test_tsne= knn.predict(X_tSNE_test)\n",
        "print('MSE of test dataset  after tsne  dim reduction: %0.2f' % mean_squared_error(y_test,pred_test_tsne))\n",
        "print('MAE of test dataset  after tsne  dim reduction: %0.2f'  % mean_absolute_error(y_test,pred_test_tsne))\n",
        "print('R2 Score of test dataset  after tsne  dim reduction: %0.2f' % r2_score(y_test, pred_test_tsne))"
      ],
      "execution_count": null,
      "outputs": [
        {
          "output_type": "stream",
          "text": [
            "MSE of training dataset after tsne dim reduction: 33.40 \n",
            "MAE of training dataset  after tsne  dim reduction: 0.23 \n",
            "R2 Score of training dataset  after tsne  dim reduction: 1.00 \n",
            "MSE of test dataset  after tsne  dim reduction: 184003.10\n",
            "MAE of test dataset  after tsne  dim reduction: 208.87\n",
            "R2 Score of test dataset  after tsne  dim reduction: 0.46\n"
          ],
          "name": "stdout"
        }
      ]
    },
    {
      "cell_type": "markdown",
      "metadata": {
        "id": "5JIMG5fEp40P"
      },
      "source": [
        "## Ridge Regression"
      ]
    },
    {
      "cell_type": "code",
      "metadata": {
        "colab": {
          "base_uri": "https://localhost:8080/"
        },
        "id": "-tnmSXVvp7mN",
        "outputId": "f8d28e14-8984-447c-90ea-d9fc5210d69b"
      },
      "source": [
        "#Ridge Regression\n",
        "rr = Ridge(alpha=0.01)\n",
        "rsCV = RandomizedSearchCV(rr,cv= 5,param_distributions={'alpha':np.linspace(0,20,100)})\n",
        "rsCV.fit(train_data, y_train) \n",
        "\n",
        "pred_train_rr= rsCV.predict(train_data)\n",
        "print('RMSE train', mean_squared_error(y_train,pred_train_rr))\n",
        "print('MAE train', mean_absolute_error(y_train,pred_train_rr))\n",
        "print(r2_score(y_train, pred_train_rr))\n",
        "\n",
        "pred_test_rr= rsCV.predict(test_data)\n",
        "print('RMSE test',mean_squared_error(y_test,pred_test_rr)) \n",
        "print('MAE test', mean_absolute_error(y_test,pred_test_rr))\n",
        "print(r2_score(y_test, pred_test_rr))"
      ],
      "execution_count": null,
      "outputs": [
        {
          "output_type": "stream",
          "text": [
            "RMSE train 98398.83970988664\n",
            "MAE train 160.1229728733324\n",
            "0.7202982629410468\n",
            "RMSE test 100081.37118145802\n",
            "MAE test 160.29458963375572\n",
            "0.7066870485524814\n"
          ],
          "name": "stdout"
        }
      ]
    },
    {
      "cell_type": "code",
      "metadata": {
        "colab": {
          "base_uri": "https://localhost:8080/",
          "height": 444
        },
        "id": "p_l-j1Jlrz_-",
        "outputId": "60402532-739e-46fb-d014-aec52394025e"
      },
      "source": [
        "f = plt.figure(figsize= (14,6))\n",
        "\n",
        "ax = f.add_subplot(121)\n",
        "ax.scatter(y_test, pred_test_rr)\n",
        "plt.title('Scatter plot of y_true vs y_pred')\n",
        "\n",
        "residual = y_test - pred_test_rr\n",
        "ax = f.add_subplot(122)\n",
        "sns.distplot(residual, ax = ax)\n",
        "plt.axvline(residual.mean())\n",
        "plt.title('Residual plot');"
      ],
      "execution_count": null,
      "outputs": [
        {
          "output_type": "stream",
          "text": [
            "/usr/local/lib/python3.7/dist-packages/seaborn/distributions.py:2557: FutureWarning: `distplot` is a deprecated function and will be removed in a future version. Please adapt your code to use either `displot` (a figure-level function with similar flexibility) or `histplot` (an axes-level function for histograms).\n",
            "  warnings.warn(msg, FutureWarning)\n"
          ],
          "name": "stderr"
        },
        {
          "output_type": "display_data",
          "data": {
            "image/png": "[encoded data removed]",
            "text/plain": [
              "<Figure size 1008x432 with 2 Axes>"
            ]
          },
          "metadata": {
            "tags": [],
            "needs_background": "light"
          }
        }
      ]
    },
    {
      "cell_type": "markdown",
      "metadata": {
        "id": "N4b8CMLo0TNk"
      },
      "source": [
        "## Linear Regression"
      ]
    },
    {
      "cell_type": "code",
      "metadata": {
        "id": "UYX3Vs2k0XaL"
      },
      "source": [
        "# Linear Regression\n",
        "lr = LinearRegression()\n",
        "lr.fit(X_train,y_train)\n",
        "\n",
        "pred_train_lr= lr.predict(X_train)\n",
        "print('MSE of training dataset: %0.2f '  % mean_squared_error(y_train,pred_train_lr))\n",
        "print('MAE of training dataset: %0.2f ' % mean_absolute_error(y_train,pred_train_lr))\n",
        "print('R2 Score of training dataset: %0.2f ' % r2_score(y_train, pred_train_lr))\n",
        "\n",
        "pred_test_lr= lr.predict(X_test)\n",
        "print('MSE of test dataset: %0.2f' % mean_squared_error(y_test,pred_test_lr))\n",
        "print('MAE of test dataset: %0.2f'  % mean_absolute_error(y_test,pred_test_lr))\n",
        "print('R2 Score of test dataset: %0.2f' % r2_score(y_test, pred_test_lr))"
      ],
      "execution_count": null,
      "outputs": []
    },
    {
      "cell_type": "code",
      "metadata": {
        "id": "A1s17ld90hSf"
      },
      "source": [
        "print(lr.coef_)\n",
        "print(lr.intercept_)"
      ],
      "execution_count": null,
      "outputs": []
    },
    {
      "cell_type": "code",
      "metadata": {
        "id": "fknSkO3C0iYg"
      },
      "source": [
        "f = plt.figure(figsize= (14,6))\n",
        "\n",
        "ax = f.add_subplot(121)\n",
        "ax.scatter(y_test, pred_test_lr)\n",
        "plt.title('Scatter plot of y_true vs y_pred')\n",
        "\n",
        "residual = y_test - pred_test_lr\n",
        "ax = f.add_subplot(122)\n",
        "sns.distplot(residual, ax = ax)\n",
        "plt.axvline(residual.mean())\n",
        "plt.title('Residual plot');"
      ],
      "execution_count": null,
      "outputs": []
    },
    {
      "cell_type": "markdown",
      "metadata": {
        "id": "UmP9uu09r1on"
      },
      "source": [
        "## Lasso Regression"
      ]
    },
    {
      "cell_type": "code",
      "metadata": {
        "colab": {
          "base_uri": "https://localhost:8080/"
        },
        "id": "tKTyJ7VQu-xp",
        "outputId": "a9c52c5a-6954-43d7-ca8f-6cf079eef2d7"
      },
      "source": [
        "#Lasso Regression\n",
        "model_lasso = Lasso(alpha=0.01)\n",
        "model_lasso.fit(X_train, y_train) \n",
        "\n",
        "pred_train_lasso= model_lasso.predict(X_train)\n",
        "print(mean_squared_error(y_train,pred_train_lasso))\n",
        "print(mean_absolute_error(y_train,pred_train_lasso))\n",
        "print(r2_score(y_train, pred_train_lasso))\n",
        "\n",
        "pred_test_lasso= model_lasso.predict(X_test)\n",
        "print(mean_squared_error(y_test,pred_test_lasso))\n",
        "print(mean_absolute_error(y_test,pred_test_lasso))\n",
        "print(r2_score(y_test, pred_test_lasso))"
      ],
      "execution_count": null,
      "outputs": [
        {
          "output_type": "stream",
          "text": [
            "71626.44590082989\n",
            "153.69023504346683\n",
            "0.7963996181572014\n",
            "75580.85937366646\n",
            "155.17421937393166\n",
            "0.7784917944855538\n"
          ],
          "name": "stdout"
        }
      ]
    },
    {
      "cell_type": "code",
      "metadata": {
        "id": "5MOVeTDmvCaM"
      },
      "source": [
        "f = plt.figure(figsize= (14,6))\n",
        "\n",
        "ax = f.add_subplot(121)\n",
        "ax.scatter(y_test, pred_test_lasso)\n",
        "plt.title('Scatter plot of y_true vs y_pred')\n",
        "\n",
        "residual = y_test - pred_test_lasso\n",
        "ax = f.add_subplot(122)\n",
        "sns.distplot(residual, ax = ax)\n",
        "plt.axvline(residual.mean())\n",
        "plt.title('Residual plot');"
      ],
      "execution_count": null,
      "outputs": []
    },
    {
      "cell_type": "markdown",
      "metadata": {
        "id": "vHMSnXJa1F79"
      },
      "source": [
        "## Decision Tree"
      ]
    },
    {
      "cell_type": "code",
      "metadata": {
        "id": "qIMEEMev1ML9"
      },
      "source": [
        "\"\"\"    Decision Tree      \"\"\"\n",
        "\n",
        "def DTR(rentalOffers, prices, headRentalOffers, criterion='mse',splitter='best', maxDepth=None,  maxFeatures=None):\n",
        "    #normalization step\n",
        "    rentalOffers=normalize(np.array(rentalOffers), norm='l2', axis=0)\n",
        "     \n",
        "    #used for the 10-fold cross-validation errors\n",
        "    folds=1\n",
        "    mse10=0\n",
        "    mae10=0\n",
        "    r2_10=0\n",
        "\n",
        "    for i in range(folds):\n",
        "      #split data into train and test\n",
        "      rentalOffersTrain, rentalOffersTest, pricesTrain, pricesTest = train_test_split(rentalOffers, prices, test_size=0.30, shuffle=True)\n",
        "\n",
        "      #create the model\n",
        "      decisionTreeRegressor= DecisionTreeRegressor(criterion=criterion, splitter=splitter,max_depth=maxDepth, max_features=maxFeatures)\n",
        "      #train the model\n",
        "      decisionTreeRegressor.fit(rentalOffersTrain, pricesTrain)\n",
        "      #predict the values for the test set\n",
        "      predictedPrices=decisionTreeRegressor.predict(rentalOffersTest)\n",
        "      \n",
        "      ##plot the graph structure\n",
        "      ##tree.plot_tree(decisionTreeRegressor,feature_names=headRentalOffers, fontsize=9)\n",
        "\n",
        "      #calculate mse , mae and r2\n",
        "      mse=mean_squared_error(pricesTest, predictedPrices)\n",
        "      mae=mean_absolute_error(pricesTest, predictedPrices)\n",
        "      r2=r2_score(pricesTest, predictedPrices)\n",
        "\n",
        "      mse10+=mse\n",
        "      mae10+=mae\n",
        "      r2_10+=r2\n",
        "      \n",
        "\n",
        "    #calculate the average mse and mae\n",
        "    mse10/=folds\n",
        "    mae10/=folds\n",
        "    r2_10/=folds\n",
        "\n",
        "    print(\"Plot the last result\")\n",
        "    #plotValues(pricesTest, predictedPrices)\n",
        "    fig=plt.figure(figsize=(14,6))\n",
        "    ax=fig.add_subplot(121)\n",
        "    ax.scatter(pricesTest, predictedPrices)\n",
        "    plt.title(\"Scatter plot of y_true vs y_predicted\")\n",
        "    plt.show()\n",
        "    residualPrices= pricesTest-predictedPrices\n",
        "    #ax=fig.add_subplot(122)\n",
        "    #sns.distplot(residualPrices,ax=ax)\n",
        "    #plt.axvline(residualPrices.mean())\n",
        "    #plt.title('Residual plot')\n",
        "\n",
        "    #mostImportantFeature=headRentalOffers[np.argmax(decisionTreeRegressor.feature_importances_)]\n",
        "    #mostUnimportantFeature=headRentalOffers[np.argmin(decisionTreeRegressor.feature_importances_)]\n",
        "    #print(\"Important feature:  %s  Unimportant feature: %s\"  %(mostImportantFeature, mostUnimportantFeature))\n",
        "    #print(\"MSE=%d MAE=%d \" %(mse,mae))\n",
        "\n",
        "    return mse10, mae10, r2_10, residualPrices\n",
        "\n",
        "\"\"\"   One hot encoding for numpy arrays   \"\"\"\n",
        "#create encoding for one column (column is a numpy array of shape (1,num_lines))\n",
        "def one_hot_encoding(column):\n",
        "  if len(np.array(column).shape)!=2:\n",
        "    print(\"Column must have shape (1,num_lines) \")\n",
        "    return\n",
        "\n",
        "  length=int(column[0][np.argmax(column, axis=1)]+1)\n",
        "  #print(\"length of encoding\" , length)\n",
        "\n",
        "  encoding=np.zeros((len(column[0]),length) )\n",
        "  #print(encoding.shape)\n",
        "  for (i, value) in enumerate(column[0]):\n",
        "    #print(i, value)\n",
        "    encoding[i][int(value)]=1\n",
        "\n",
        "  return encoding\n",
        "\n",
        "#add encoding instead of column\n",
        "def add_one_hot_encoding(data, indexColumnFromData):\n",
        "  columnFromData=np.array([data[:,indexColumnFromData]])\n",
        "  encoding=one_hot_encoding(columnFromData)\n",
        "  data=np.delete(np.array(data),indexColumnFromData, axis=1)\n",
        "  data=np.concatenate((data, encoding), axis=1 )\n",
        "\n",
        "  return data\n",
        "\n",
        "def plotValues(y_true, y_predicted):\n",
        "  plt.plot(y_true,y_predicted,'b.')\n",
        "  plt.title(\"Scatter plot of y_true vs y_predicted\")\n",
        "  plt.show()\n",
        "  return\n",
        "\n",
        "\"\"\" Read data \"\"\"\n",
        "#read data from file\n",
        "rentalOffers=pd.read_csv(\"house_rentals_features_1.csv\")\n",
        "headRentalOffers=rentalOffers.columns.values.tolist()\n",
        "rentalOffers=rentalOffers.values\n",
        "\n",
        "#read the prices\n",
        "prices=pd.read_csv(\"house_rentals_clean.csv\")\n",
        "#convert to np.array\n",
        "prices=prices['price'].values\n",
        "\n",
        "print(\"Decision Tree Regressor\")"
      ],
      "execution_count": null,
      "outputs": []
    },
    {
      "cell_type": "code",
      "metadata": {
        "id": "8S5RO0rh1Oc5"
      },
      "source": [
        "print(\"Applying Decision Tree Regressor on the data\")\n",
        "\n",
        "criteria=['mse']#, 'friedman_mse', 'mae']\n",
        "splitters=['best']#,'random']\n",
        "maxDepths=[ 10]#, 100, 2000]\n",
        "maxFeaturesToUse=[5]#, 5, 10, 15]\n",
        "\n",
        "for criterion in criteria:\n",
        "  for splitter in splitters:\n",
        "    for maxDepth in maxDepths:\n",
        "      for maxFeatures in maxFeaturesToUse:\n",
        "        mse,mae,r2, residualPrices=DTR(rentalOffers, prices, headRentalOffers, criterion, splitter, maxDepth,  maxFeatures)\n",
        "        print(\"Criterion: %s; Splitter: %s; Maximum depth: %s; Maxiumum features: %s; MSE=%s; MAE=%s, R2=%s\" %(criterion,splitter, str(maxDepth),  str(maxFeatures), str(mse), str(mae), str(r2)))\n",
        "        \n",
        "fig=plt.figure(figsize=(14,6))\n",
        "ax=fig.add_subplot(122)\n",
        "sns.distplot(residualPrices,ax=ax)\n",
        "plt.axvline(residualPrices.mean())\n",
        "plt.title('Residual plot')"
      ],
      "execution_count": null,
      "outputs": []
    },
    {
      "cell_type": "code",
      "metadata": {
        "id": "gSew37p-1R-I"
      },
      "source": [
        "\"\"\" One hot encoding \"\"\"\n",
        "# get indexes\n",
        "indexLocationArea=headRentalOffers.index('location_area')\n",
        "indexPartitioning=headRentalOffers.index('partitioning')-1  #the location_area column is in front of it and will be deleted\n",
        "indexRealEstateType=headRentalOffers.index('real_estate_type')-2  #the location_area and partitioning columns are in front of it and will be deleted\n",
        "\n",
        "#encoding the data\n",
        "#print(rentalOffers.shape)\n",
        "encodingRentalOffers=add_one_hot_encoding(np.array(rentalOffers), indexLocationArea)\n",
        "#print(encodingRentalOffers.shape)\n",
        "encodingRentalOffers=add_one_hot_encoding(np.array(encodingRentalOffers), indexPartitioning)\n",
        "#print(encodingRentalOffers.shape)\n",
        "encodingRentalOffers=add_one_hot_encoding(np.array(encodingRentalOffers), indexRealEstateType)\n",
        "#print(encodingRentalOffers.shape)\n",
        "\n",
        "print(\"Applying Decision Tree Regressor on the data after encoding the location_area, partitioning, real_estate_type columns\")\n",
        "print(encodingRentalOffers.shape)\n",
        "\n",
        "criteria=['friedman_mse', 'mse', 'mae']\n",
        "splitters=['random']#,'best']\n",
        "maxDepths=[10] #None, 2, 100, 2000]\n",
        "maxFeaturesToUse=[None]#, 10, 15]\n",
        "\n",
        "for criterion in criteria:\n",
        "  for splitter in splitters:\n",
        "    for maxDepth in maxDepths:\n",
        "      for maxFeatures in maxFeaturesToUse:\n",
        "        print(\"-----------------------------------Decision Tree-----------------------------------------\")\n",
        "        mse,mae,r2, residualPrices=DTR(rentalOffers, prices, headRentalOffers, criterion, splitter, maxDepth,  maxFeatures)\n",
        "        print(\"Criterion: %s; Splitter: %s; Maximum depth: %s; Maxiumum features: %s; MSE=%s; MAE=%s, R2=%s\" %(criterion,splitter, str(maxDepth),  str(maxFeatures), str(mse), str(mae), str(r2)))\n",
        "        #residual graph\n",
        "        fig=plt.figure(figsize=(14,6))\n",
        "        ax=fig.add_subplot(122)\n",
        "        sns.distplot(residualPrices,ax=ax)\n",
        "        plt.axvline(residualPrices.mean())\n",
        "        plt.title('Residual plot')    "
      ],
      "execution_count": null,
      "outputs": []
    }
  ]
}